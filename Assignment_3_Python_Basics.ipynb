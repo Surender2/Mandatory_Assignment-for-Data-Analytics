{
 "cells": [
  {
   "cell_type": "markdown",
   "id": "961f35cd",
   "metadata": {},
   "source": [
    "#### 1. Why are functions advantageous to have in your programs?"
   ]
  },
  {
   "cell_type": "markdown",
   "id": "7ee011b8",
   "metadata": {},
   "source": [
    "1. functions reduces the need of duplicate code.\n",
    "2. It helps the code in shorter format which in turn makes code readable and crisp.\n",
    "3. It would be easier to modify and add a new function."
   ]
  },
  {
   "cell_type": "markdown",
   "id": "a3db525c",
   "metadata": {},
   "source": [
    "- **Definition**: Function are nothing but a block of code which performs a specific task and can be called again and again as per requirement in the code.\n",
    "- A generic way to write a simple function is shown below-\n",
    "```python\n",
    "def function_name():\n",
    "    # function body starts\n",
    "    pass\n",
    "    # function body ends\n",
    "# calling function in the code -\n",
    "function_name()\n",
    "```"
   ]
  },
  {
   "cell_type": "markdown",
   "id": "c6bf1d04",
   "metadata": {},
   "source": [
    "#### 2.When does the code in a function run: when it's specified or when it's called?"
   ]
  },
  {
   "cell_type": "markdown",
   "id": "fe6b2675",
   "metadata": {},
   "source": [
    "A function is block of code which runs only when the code is called and not when it is defined"
   ]
  },
  {
   "cell_type": "code",
   "execution_count": 1,
   "id": "e5c71b4f",
   "metadata": {},
   "outputs": [],
   "source": [
    "def test1():\n",
    "    return \"This is my first function\""
   ]
  },
  {
   "cell_type": "code",
   "execution_count": 2,
   "id": "3846f781",
   "metadata": {},
   "outputs": [
    {
     "data": {
      "text/plain": [
       "'This is my first function'"
      ]
     },
     "execution_count": 2,
     "metadata": {},
     "output_type": "execute_result"
    }
   ],
   "source": [
    "test1()    #To call a function, use the function name followed by parenthesis:"
   ]
  },
  {
   "cell_type": "markdown",
   "id": "179530c9",
   "metadata": {},
   "source": [
    "#### 3.What statement creates a function?"
   ]
  },
  {
   "cell_type": "markdown",
   "id": "90287672",
   "metadata": {},
   "source": [
    "1. The 'def' keyword is a statement for defining a function in Python.\n",
    "2. You start a function with the def keyword, specify a name followed by a colon (:) sign.\n",
    "3. Give a unique name to your function and follow the same rules as naming the identifiers."
   ]
  },
  {
   "cell_type": "code",
   "execution_count": 3,
   "id": "861e8814",
   "metadata": {},
   "outputs": [],
   "source": [
    "def test2():\n",
    "    return \"This is my second function\""
   ]
  },
  {
   "cell_type": "code",
   "execution_count": 4,
   "id": "acd90656",
   "metadata": {},
   "outputs": [
    {
     "data": {
      "text/plain": [
       "'This is my second function'"
      ]
     },
     "execution_count": 4,
     "metadata": {},
     "output_type": "execute_result"
    }
   ],
   "source": [
    "test2()"
   ]
  },
  {
   "cell_type": "markdown",
   "id": "e9c31a96",
   "metadata": {},
   "source": [
    "#### 4.What is the difference between a function and a function call?"
   ]
  },
  {
   "cell_type": "markdown",
   "id": "31cb4159",
   "metadata": {},
   "source": [
    "1. function : A function consists of the def statement and the code in its def clause. \n",
    "2. function call : It is what moves the program execution into the function, and the function call evaluates to the function's return value."
   ]
  },
  {
   "cell_type": "code",
   "execution_count": 6,
   "id": "a2b8d8d9",
   "metadata": {},
   "outputs": [],
   "source": [
    "def test3(): #function definition\n",
    "    return \"This is my second function\"   "
   ]
  },
  {
   "cell_type": "code",
   "execution_count": 7,
   "id": "f43db0e6",
   "metadata": {},
   "outputs": [
    {
     "data": {
      "text/plain": [
       "'This is my second function'"
      ]
     },
     "execution_count": 7,
     "metadata": {},
     "output_type": "execute_result"
    }
   ],
   "source": [
    "test3()  #function call"
   ]
  },
  {
   "cell_type": "markdown",
   "id": "4397bcef",
   "metadata": {},
   "source": [
    "#### 5.How many global scopes are there in a Python program? How many local scopes?"
   ]
  },
  {
   "cell_type": "markdown",
   "id": "331f150b",
   "metadata": {},
   "source": [
    "There is one global scope, and a local scope is created whenever a function is called."
   ]
  },
  {
   "cell_type": "markdown",
   "id": "f413e1f0",
   "metadata": {},
   "source": [
    "A variable created inside a function belongs to the local scope of that function, and can only be used inside that function.\n",
    "```\n",
    "def myfunc():\n",
    "  x = 300   #Local variable\n",
    "  print(x)\n",
    "\n",
    "myfunc()\n",
    "```"
   ]
  },
  {
   "cell_type": "markdown",
   "id": "30c7b890",
   "metadata": {},
   "source": [
    "A variable created in the main body of the Python code is a global variable and belongs to the global scope.\n",
    "```\n",
    "x = 300  #Global variable\n",
    "\n",
    "def myfunc():\n",
    "  print(x)\n",
    "\n",
    "myfunc()\n",
    "```"
   ]
  },
  {
   "cell_type": "markdown",
   "id": "edd1f6ac",
   "metadata": {},
   "source": [
    "#### 6. What happens to variables in a local scope when the function call returns?"
   ]
  },
  {
   "cell_type": "markdown",
   "id": "0ba057d5",
   "metadata": {},
   "source": [
    "- When a function returns, the local scope is destroyed, and all the variables in it are forgotten.\n",
    "- Local variables are those which are initialized inside a function and belong only to that particular function. It cannot be accessed anywhere outside the function. Let’s see how to create a local variable."
   ]
  },
  {
   "cell_type": "code",
   "execution_count": 10,
   "id": "7916bd5c",
   "metadata": {},
   "outputs": [
    {
     "name": "stdout",
     "output_type": "stream",
     "text": [
      "10\n"
     ]
    }
   ],
   "source": [
    "def test6():\n",
    "    s = 10\n",
    "    print(s)\n",
    "    \n",
    "test6()"
   ]
  },
  {
   "cell_type": "code",
   "execution_count": 11,
   "id": "9cdb632b",
   "metadata": {},
   "outputs": [
    {
     "name": "stdout",
     "output_type": "stream",
     "text": [
      "10\n"
     ]
    },
    {
     "ename": "NameError",
     "evalue": "name 's' is not defined",
     "output_type": "error",
     "traceback": [
      "\u001b[1;31m---------------------------------------------------------------------------\u001b[0m",
      "\u001b[1;31mNameError\u001b[0m                                 Traceback (most recent call last)",
      "\u001b[1;32m<ipython-input-11-a4f3df3c1b76>\u001b[0m in \u001b[0;36m<module>\u001b[1;34m\u001b[0m\n\u001b[0;32m      1\u001b[0m \u001b[0mtest6\u001b[0m\u001b[1;33m(\u001b[0m\u001b[1;33m)\u001b[0m\u001b[1;33m\u001b[0m\u001b[1;33m\u001b[0m\u001b[0m\n\u001b[1;32m----> 2\u001b[1;33m \u001b[0mprint\u001b[0m\u001b[1;33m(\u001b[0m\u001b[0ms\u001b[0m\u001b[1;33m)\u001b[0m\u001b[1;33m\u001b[0m\u001b[1;33m\u001b[0m\u001b[0m\n\u001b[0m",
      "\u001b[1;31mNameError\u001b[0m: name 's' is not defined"
     ]
    }
   ],
   "source": [
    "test6()\n",
    "print(s)  #This is due to local scope once the function is returned all the variables are forgotten"
   ]
  },
  {
   "cell_type": "markdown",
   "id": "4f24be27",
   "metadata": {},
   "source": [
    "#### 7.What is the concept of a return value? Is it possible to have a return value in an expression?"
   ]
  },
  {
   "cell_type": "markdown",
   "id": "423dd65d",
   "metadata": {},
   "source": [
    "- A return value is the value that a function call evaluates to. Like any value, a return value can be used as part of an expression.\n",
    "- return statement is used to end the execution of the function call."
   ]
  },
  {
   "cell_type": "code",
   "execution_count": 14,
   "id": "d14c944c",
   "metadata": {},
   "outputs": [],
   "source": [
    "def test7(a,b):\n",
    "    result = a + b\n",
    "    return 1"
   ]
  },
  {
   "cell_type": "code",
   "execution_count": 15,
   "id": "b9ee37ac",
   "metadata": {},
   "outputs": [
    {
     "data": {
      "text/plain": [
       "1"
      ]
     },
     "execution_count": 15,
     "metadata": {},
     "output_type": "execute_result"
    }
   ],
   "source": [
    "test7(5,7)        "
   ]
  },
  {
   "cell_type": "code",
   "execution_count": 16,
   "id": "264b9830",
   "metadata": {},
   "outputs": [],
   "source": [
    "def test_7(a,b):\n",
    "    return a + b"
   ]
  },
  {
   "cell_type": "code",
   "execution_count": 17,
   "id": "0115719b",
   "metadata": {},
   "outputs": [
    {
     "data": {
      "text/plain": [
       "12"
      ]
     },
     "execution_count": 17,
     "metadata": {},
     "output_type": "execute_result"
    }
   ],
   "source": [
    "test_7(5,7)"
   ]
  },
  {
   "cell_type": "markdown",
   "id": "e5669045",
   "metadata": {},
   "source": [
    "#### 8.If a function does not have a return statement, what is the return value of a call to that function?"
   ]
  },
  {
   "cell_type": "markdown",
   "id": "e5af4053",
   "metadata": {},
   "source": [
    "If there is no return statement for a function, its return value is None."
   ]
  },
  {
   "cell_type": "code",
   "execution_count": 18,
   "id": "524a9997",
   "metadata": {},
   "outputs": [],
   "source": [
    "def test8():\n",
    "    print(\"We need to use triple quotes for  Doc string\")"
   ]
  },
  {
   "cell_type": "code",
   "execution_count": 21,
   "id": "2b8647bf",
   "metadata": {},
   "outputs": [
    {
     "name": "stdout",
     "output_type": "stream",
     "text": [
      "We need to use triple quotes for  Doc string\n",
      "<class 'NoneType'>\n"
     ]
    }
   ],
   "source": [
    "n = test8()\n",
    "print(type(n))          #Datatype is NoneType"
   ]
  },
  {
   "cell_type": "markdown",
   "id": "171f49cb",
   "metadata": {},
   "source": [
    "#### 9.How do you make a function variable refer to the global variable?"
   ]
  },
  {
   "cell_type": "markdown",
   "id": "cbc014f6",
   "metadata": {},
   "source": [
    "You can use global keyword if you want to change a global variable inside a function."
   ]
  },
  {
   "cell_type": "code",
   "execution_count": 30,
   "id": "4144a75d",
   "metadata": {},
   "outputs": [],
   "source": [
    "global_var = \"This is global variable\""
   ]
  },
  {
   "cell_type": "code",
   "execution_count": 33,
   "id": "0a094c4a",
   "metadata": {},
   "outputs": [
    {
     "name": "stdout",
     "output_type": "stream",
     "text": [
      "This is local variable\n",
      "This is global variable\n",
      "This is global variable\n"
     ]
    },
    {
     "ename": "NameError",
     "evalue": "name 'local' is not defined",
     "output_type": "error",
     "traceback": [
      "\u001b[1;31m---------------------------------------------------------------------------\u001b[0m",
      "\u001b[1;31mNameError\u001b[0m                                 Traceback (most recent call last)",
      "\u001b[1;32m<ipython-input-33-29e6618eb1be>\u001b[0m in \u001b[0;36m<module>\u001b[1;34m\u001b[0m\n\u001b[0;32m      6\u001b[0m \u001b[0mtest9\u001b[0m\u001b[1;33m(\u001b[0m\u001b[1;33m)\u001b[0m\u001b[1;33m\u001b[0m\u001b[1;33m\u001b[0m\u001b[0m\n\u001b[0;32m      7\u001b[0m \u001b[0mprint\u001b[0m\u001b[1;33m(\u001b[0m\u001b[0mglobal_var\u001b[0m\u001b[1;33m)\u001b[0m\u001b[1;33m\u001b[0m\u001b[1;33m\u001b[0m\u001b[0m\n\u001b[1;32m----> 8\u001b[1;33m \u001b[0mprint\u001b[0m\u001b[1;33m(\u001b[0m\u001b[0mlocal\u001b[0m\u001b[1;33m)\u001b[0m\u001b[1;33m\u001b[0m\u001b[1;33m\u001b[0m\u001b[0m\n\u001b[0m",
      "\u001b[1;31mNameError\u001b[0m: name 'local' is not defined"
     ]
    }
   ],
   "source": [
    "def test9():\n",
    "    local = 'This is local variable'\n",
    "    print(local)\n",
    "    print(global_var)\n",
    "    \n",
    "test9()\n",
    "print(global_var)\n",
    "print(local)"
   ]
  },
  {
   "cell_type": "code",
   "execution_count": 34,
   "id": "6640fcf5",
   "metadata": {},
   "outputs": [
    {
     "name": "stdout",
     "output_type": "stream",
     "text": [
      "This is local variable\n",
      "This is global variable\n",
      "This is global variable\n",
      "This is local variable\n"
     ]
    }
   ],
   "source": [
    "def test9():\n",
    "    global local\n",
    "    local = 'This is local variable'\n",
    "    print(local)\n",
    "    print(global_var)\n",
    "    \n",
    "test9()\n",
    "print(global_var)\n",
    "print(local)"
   ]
  },
  {
   "cell_type": "markdown",
   "id": "1327b680",
   "metadata": {},
   "source": [
    "#### 10.What is the data type of None?"
   ]
  },
  {
   "cell_type": "markdown",
   "id": "fc5319ff",
   "metadata": {},
   "source": [
    "The data type of None is NoneType"
   ]
  },
  {
   "cell_type": "code",
   "execution_count": 38,
   "id": "08207795",
   "metadata": {},
   "outputs": [],
   "source": [
    "def test10():\n",
    "    print(\"The Datatype of None is NoneType\")"
   ]
  },
  {
   "cell_type": "code",
   "execution_count": 39,
   "id": "87a1403b",
   "metadata": {},
   "outputs": [
    {
     "name": "stdout",
     "output_type": "stream",
     "text": [
      "The Datatype of None is NoneType\n",
      "<class 'NoneType'>\n"
     ]
    }
   ],
   "source": [
    "k = test10()\n",
    "print(type(k))"
   ]
  },
  {
   "cell_type": "markdown",
   "id": "8b767ab4",
   "metadata": {},
   "source": [
    "#### 11.What does the sentence import areallyourpetsnamederic do?"
   ]
  },
  {
   "cell_type": "markdown",
   "id": "a38fd68e",
   "metadata": {},
   "source": [
    "The import statement imports a module named areallyourpetsnamederic."
   ]
  },
  {
   "cell_type": "code",
   "execution_count": 40,
   "id": "a14f2f99",
   "metadata": {},
   "outputs": [
    {
     "ename": "ModuleNotFoundError",
     "evalue": "No module named 'areallyourpetsnamederic'",
     "output_type": "error",
     "traceback": [
      "\u001b[1;31m---------------------------------------------------------------------------\u001b[0m",
      "\u001b[1;31mModuleNotFoundError\u001b[0m                       Traceback (most recent call last)",
      "\u001b[1;32m<ipython-input-40-bc0a7cc000f7>\u001b[0m in \u001b[0;36m<module>\u001b[1;34m\u001b[0m\n\u001b[1;32m----> 1\u001b[1;33m \u001b[1;32mimport\u001b[0m \u001b[0mareallyourpetsnamederic\u001b[0m\u001b[1;33m\u001b[0m\u001b[1;33m\u001b[0m\u001b[0m\n\u001b[0m",
      "\u001b[1;31mModuleNotFoundError\u001b[0m: No module named 'areallyourpetsnamederic'"
     ]
    }
   ],
   "source": [
    "import areallyourpetsnamederic #This module is not found in python library to import"
   ]
  },
  {
   "cell_type": "code",
   "execution_count": 41,
   "id": "2d1fb1ea",
   "metadata": {},
   "outputs": [],
   "source": [
    "import math     #In order to show one module we have imported math module"
   ]
  },
  {
   "cell_type": "code",
   "execution_count": 43,
   "id": "2e21b607",
   "metadata": {},
   "outputs": [
    {
     "name": "stdout",
     "output_type": "stream",
     "text": [
      "3.141592653589793\n"
     ]
    }
   ],
   "source": [
    "print(math.pi)    #"
   ]
  },
  {
   "cell_type": "markdown",
   "id": "16916c05",
   "metadata": {},
   "source": [
    "#### 12.If you had a bacon() feature in a spam module, what would you call it after importing spam?"
   ]
  },
  {
   "cell_type": "markdown",
   "id": "46fc8c85",
   "metadata": {},
   "source": [
    "This function can be called with spam.bacon()."
   ]
  },
  {
   "cell_type": "markdown",
   "id": "2e67127b",
   "metadata": {},
   "source": [
    "#### 13.What can you do to save a programme from crashing if it encounters an error?"
   ]
  },
  {
   "cell_type": "markdown",
   "id": "72ff26d1",
   "metadata": {},
   "source": [
    "Place the line of code that might cause an error in a try clause"
   ]
  },
  {
   "cell_type": "code",
   "execution_count": 47,
   "id": "a0ac6c71",
   "metadata": {},
   "outputs": [
    {
     "name": "stdout",
     "output_type": "stream",
     "text": [
      "Enter the number1 : 12\n",
      "Enter the number2 : 0\n",
      "Kindly provide the number greater than 0\n"
     ]
    }
   ],
   "source": [
    "#try - else block\n",
    "try:\n",
    "    a = int(input(\"Enter the number1 : \"))\n",
    "    b = int(input(\"Enter the number2 : \"))\n",
    "    \n",
    "    c = a/b\n",
    "    d = a*b\n",
    "except ZeroDivisionError:\n",
    "    print(\"Kindly provide the number greater than 0\")\n",
    "except Exception as ex:\n",
    "    print(ex)\n",
    "    \n",
    "else:\n",
    "    print(c)\n",
    "    print(d)"
   ]
  },
  {
   "cell_type": "code",
   "execution_count": 49,
   "id": "579ead8e",
   "metadata": {},
   "outputs": [
    {
     "name": "stdout",
     "output_type": "stream",
     "text": [
      "Enter the number1 : 12\n",
      "Enter the number2 : 4\n",
      "3.0\n",
      "48\n"
     ]
    }
   ],
   "source": [
    "try:\n",
    "    a = int(input(\"Enter the number1 : \"))\n",
    "    b = int(input(\"Enter the number2 : \"))\n",
    "    \n",
    "    c = a/b\n",
    "    d = a*b\n",
    "except ZeroDivisionError:\n",
    "    print(\"Kindly provide the number greater than 0\")\n",
    "except Exception as ex:\n",
    "    print(ex)\n",
    "    \n",
    "else:\n",
    "    print(c)\n",
    "    print(d)"
   ]
  },
  {
   "cell_type": "markdown",
   "id": "a567a721",
   "metadata": {},
   "source": [
    "#### 14.What is the purpose of the try clause? What is the purpose of the except clause?"
   ]
  },
  {
   "cell_type": "markdown",
   "id": "4c1e83f6",
   "metadata": {},
   "source": [
    "- Try clause : The try block is used to check some code for errors i.e the code inside the try block will execute when there is no error in the program.\n",
    "- Except clause : The except block will execute whenever the program encounters some error in the preceding try block."
   ]
  },
  {
   "cell_type": "code",
   "execution_count": 50,
   "id": "9bb955af",
   "metadata": {},
   "outputs": [
    {
     "name": "stdout",
     "output_type": "stream",
     "text": [
      "Enter the number1 : 12\n",
      "Enter the number2 : 4\n",
      "unsupported operand type(s) for +: 'int' and 'str'\n"
     ]
    }
   ],
   "source": [
    "try:\n",
    "    a = int(input(\"Enter the number1 : \"))\n",
    "    b = input(\"Enter the number2 : \")\n",
    "    c = a + b\n",
    "    \n",
    "except ZeroDivisionError:\n",
    "    print(\"Kindly provide the number greater than 0\")\n",
    "except Exception as ex:\n",
    "    print(ex)\n",
    "    \n",
    "else:\n",
    "    print(c)"
   ]
  },
  {
   "cell_type": "code",
   "execution_count": 51,
   "id": "cc2c39f0",
   "metadata": {},
   "outputs": [
    {
     "ename": "TypeError",
     "evalue": "unsupported operand type(s) for +: 'int' and 'str'",
     "output_type": "error",
     "traceback": [
      "\u001b[1;31m---------------------------------------------------------------------------\u001b[0m",
      "\u001b[1;31mTypeError\u001b[0m                                 Traceback (most recent call last)",
      "\u001b[1;32m<ipython-input-51-b8ffc8f8d322>\u001b[0m in \u001b[0;36m<module>\u001b[1;34m\u001b[0m\n\u001b[1;32m----> 1\u001b[1;33m \u001b[1;36m12\u001b[0m \u001b[1;33m+\u001b[0m \u001b[1;34m'4'\u001b[0m\u001b[1;33m\u001b[0m\u001b[1;33m\u001b[0m\u001b[0m\n\u001b[0m",
      "\u001b[1;31mTypeError\u001b[0m: unsupported operand type(s) for +: 'int' and 'str'"
     ]
    }
   ],
   "source": [
    "12 + '4'"
   ]
  },
  {
   "cell_type": "code",
   "execution_count": 52,
   "id": "6eb3c01e",
   "metadata": {},
   "outputs": [
    {
     "name": "stdout",
     "output_type": "stream",
     "text": [
      "Enter the number1 : 12\n",
      "Enter the number2 : 4\n",
      "Try to make the datatype similar\n"
     ]
    }
   ],
   "source": [
    "try:\n",
    "    a = int(input(\"Enter the number1 : \"))\n",
    "    b = input(\"Enter the number2 : \")\n",
    "    c = a + b\n",
    "    \n",
    "except ZeroDivisionError:\n",
    "    print(\"Kindly provide the number greater than 0\")\n",
    "except TypeError:\n",
    "    print(\"Try to make the datatype similar\")\n",
    "except Exception as ex:\n",
    "    print(ex)\n",
    "    \n",
    "else:\n",
    "    print(c)"
   ]
  }
 ],
 "metadata": {
  "kernelspec": {
   "display_name": "Python 3",
   "language": "python",
   "name": "python3"
  },
  "language_info": {
   "codemirror_mode": {
    "name": "ipython",
    "version": 3
   },
   "file_extension": ".py",
   "mimetype": "text/x-python",
   "name": "python",
   "nbconvert_exporter": "python",
   "pygments_lexer": "ipython3",
   "version": "3.8.8"
  }
 },
 "nbformat": 4,
 "nbformat_minor": 5
}
