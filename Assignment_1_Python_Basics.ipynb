{
 "cells": [
  {
   "cell_type": "markdown",
   "id": "0888a687",
   "metadata": {},
   "source": [
    "#### 1. In the below elements which of them are values or an expression? eg:- values can be  integer or string and expressions will be mathematical operators."
   ]
  },
  {
   "cell_type": "markdown",
   "id": "d5bb03bb",
   "metadata": {},
   "source": [
    "1. \"*\" - Expression - Multiplication operator"
   ]
  },
  {
   "cell_type": "markdown",
   "id": "201709ec",
   "metadata": {},
   "source": [
    "2. \"Hello\" - Value - string Datatype"
   ]
  },
  {
   "cell_type": "markdown",
   "id": "2cec0166",
   "metadata": {},
   "source": [
    "3. -87.8 - Value - Float Datatype"
   ]
  },
  {
   "cell_type": "markdown",
   "id": "a561d55d",
   "metadata": {},
   "source": [
    "4. \"-\" - Expression - Subtraction operator"
   ]
  },
  {
   "cell_type": "markdown",
   "id": "629f078e",
   "metadata": {},
   "source": [
    "5. \"/\" - Expression - Division operator"
   ]
  },
  {
   "cell_type": "markdown",
   "id": "37fb58b5",
   "metadata": {},
   "source": [
    "6. \"+\" - Expression - Addition operator"
   ]
  },
  {
   "cell_type": "markdown",
   "id": "153e70f4",
   "metadata": {},
   "source": [
    "7. \"6\" - Value - Integer Datatype"
   ]
  },
  {
   "cell_type": "markdown",
   "id": "94847d00",
   "metadata": {},
   "source": [
    "#### 2. What is the difference between string and variable?"
   ]
  },
  {
   "cell_type": "markdown",
   "id": "22469d62",
   "metadata": {},
   "source": [
    "String : It is datatype and It is a sequence of unicode charcters. We can use single,double & triple quotes to represent the string and combination of charcters like letters,numbers and special characters.\n",
    "Ex : s = \"Surender\"\n",
    "\n",
    "Variable : It is location in memory which is used to store some data. They are given unique names to differentiate between different memory location and has certain rules such as\n",
    "1. It is combination of lowercase or uppercase or digits(0-9) or underscore.\n",
    "2. It cannot start with a digit.\n",
    "3. It can't be use as identifier.\n",
    "4. We can't use special symbols like %,@,$,%\n",
    "\n",
    "Ex : a = 10\n"
   ]
  },
  {
   "cell_type": "markdown",
   "id": "150ed023",
   "metadata": {},
   "source": [
    "#### 3. Describe three different data types."
   ]
  },
  {
   "cell_type": "markdown",
   "id": "7713b5c4",
   "metadata": {},
   "source": [
    "Every value in python is a Datatype.Since everything in python is object in python programming. Datatype are actually \n",
    "classes and variables are instances of classes.\n",
    "1. Numbers : \n",
    "   1.Integers\n",
    "   2.Float\n",
    "   3.Complex numbers\n",
    "2. Boolean\n",
    "3. Strings\n",
    "4. List\n",
    "5. Tuple\n",
    "6. Set\n",
    "7. Dictionary"
   ]
  },
  {
   "cell_type": "markdown",
   "id": "cecf871c",
   "metadata": {},
   "source": [
    "#### 4. What is an expression made up of? What do all expressions do?"
   ]
  },
  {
   "cell_type": "markdown",
   "id": "38875d54",
   "metadata": {},
   "source": [
    "Baically expressions are combinations of opearators and operands that produce some other value. The value that operator\n",
    "operates on is called operand.\n",
    "1. Arithmetic operator: They carry out arithmetic operation.\n",
    "    1. Addition(x+y)\n",
    "    2. Subtraction(x-y)\n",
    "    3. Multiplication(x*y)\n",
    "    4. Division(x/y)\n",
    "    5. Exponent(x**y)\n",
    "    6. Integer Division(x//y)\n",
    "2. Comparison Operator :It is used to compare values.\n",
    "    For Ex : >,<,==,>=,<=\n",
    "3. Logical Operators : Logical operators are and, are & not operators.\n",
    "4. Assignment Operators : It is used to assign values to variables\n",
    "    For Ex : a -= 10, a += 10\n",
    "5. Bitwise Operators : It act on operands as if they are string of binary digits.  \n",
    "6. Identity Operators : is and is not are the identity operators.\n",
    "7. Membership Operators : in and not in are the membership operators.\n"
   ]
  },
  {
   "cell_type": "markdown",
   "id": "98197eb8",
   "metadata": {},
   "source": [
    "#### 5. This assignment statements, like spam = 10. What is the difference between an expression and a statement?"
   ]
  },
  {
   "cell_type": "markdown",
   "id": "d33b145e",
   "metadata": {},
   "source": [
    "Expression : Baically expressions are combinations of opearators and operands that produce some other value.\n",
    "For Ex : a += 10, a + b\n",
    "\n",
    "Statement : Statements are the instructions or commands that a python interpretator can execute are called statements.\n",
    "For Ex : \n",
    "1. a = 1     #Single Line Statement\n",
    "2. a = 10; b = 20; c = 20  #MultiLine Statement"
   ]
  },
  {
   "cell_type": "markdown",
   "id": "42931d17",
   "metadata": {},
   "source": [
    "#### 6. After running the following code, what does the variable bacon contain?\n",
    "#### bacon = 22\n",
    "#### bacon + 1"
   ]
  },
  {
   "cell_type": "code",
   "execution_count": 7,
   "id": "afea4a7d",
   "metadata": {},
   "outputs": [],
   "source": [
    "bacon = 22 #Bacon value would be 23. After increment by 1."
   ]
  },
  {
   "cell_type": "code",
   "execution_count": 8,
   "id": "c36fc5e6",
   "metadata": {},
   "outputs": [
    {
     "data": {
      "text/plain": [
       "23"
      ]
     },
     "execution_count": 8,
     "metadata": {},
     "output_type": "execute_result"
    }
   ],
   "source": [
    "bacon + 1  "
   ]
  },
  {
   "cell_type": "markdown",
   "id": "dbf0bf27",
   "metadata": {},
   "source": [
    "#### 7. What should the values of the following two terms be?"
   ]
  },
  {
   "cell_type": "code",
   "execution_count": 9,
   "id": "26cbc92d",
   "metadata": {},
   "outputs": [
    {
     "data": {
      "text/plain": [
       "'spamspamspam'"
      ]
     },
     "execution_count": 9,
     "metadata": {},
     "output_type": "execute_result"
    }
   ],
   "source": [
    "\"spam\" + \"spamspam\" #Both outputs would same i.e \"spamspamspam\". Since both datatype i.e string"
   ]
  },
  {
   "cell_type": "code",
   "execution_count": 10,
   "id": "ff68ab85",
   "metadata": {},
   "outputs": [
    {
     "data": {
      "text/plain": [
       "'spamspamspam'"
      ]
     },
     "execution_count": 10,
     "metadata": {},
     "output_type": "execute_result"
    }
   ],
   "source": [
    "\"spam\" * 3"
   ]
  },
  {
   "cell_type": "markdown",
   "id": "544bfabe",
   "metadata": {},
   "source": [
    "#### 8. Why is eggs a valid variable name while 100 is invalid?"
   ]
  },
  {
   "cell_type": "markdown",
   "id": "f9d53429",
   "metadata": {},
   "source": [
    "Because Variables have certain rules i.e\n",
    "1. It is combination of lowercase or uppercase or digits(0-9) or underscore.\n",
    "2. It cannot start with a digit.\n",
    "3. It can't be use as identifier.\n",
    "4. We can't use special symbols like %,@,$,%\n",
    "\n",
    "Hence eggs is valid and 100 is invalid variable names"
   ]
  },
  {
   "cell_type": "markdown",
   "id": "c3eb5e9b",
   "metadata": {},
   "source": [
    "#### 9. What three functions can be used to get the integer, floating-point number, or string version of a value?"
   ]
  },
  {
   "cell_type": "markdown",
   "id": "22b9b228",
   "metadata": {},
   "source": [
    "1. Integer"
   ]
  },
  {
   "cell_type": "code",
   "execution_count": 18,
   "id": "cecb7a54",
   "metadata": {},
   "outputs": [],
   "source": [
    "a = 10.78   #Here a is float. We are converting float into int."
   ]
  },
  {
   "cell_type": "code",
   "execution_count": 13,
   "id": "c2926481",
   "metadata": {},
   "outputs": [
    {
     "data": {
      "text/plain": [
       "10"
      ]
     },
     "execution_count": 13,
     "metadata": {},
     "output_type": "execute_result"
    }
   ],
   "source": [
    "int(a)"
   ]
  },
  {
   "cell_type": "markdown",
   "id": "7efa7b9e",
   "metadata": {},
   "source": [
    "2. Floating point Number"
   ]
  },
  {
   "cell_type": "code",
   "execution_count": 14,
   "id": "892b3c1f",
   "metadata": {},
   "outputs": [],
   "source": [
    "a = 7       #Here a is int. We are converting int into float."
   ]
  },
  {
   "cell_type": "code",
   "execution_count": 15,
   "id": "1c0428a0",
   "metadata": {},
   "outputs": [
    {
     "data": {
      "text/plain": [
       "7.0"
      ]
     },
     "execution_count": 15,
     "metadata": {},
     "output_type": "execute_result"
    }
   ],
   "source": [
    "float(a)"
   ]
  },
  {
   "cell_type": "markdown",
   "id": "65697430",
   "metadata": {},
   "source": [
    "3. String "
   ]
  },
  {
   "cell_type": "code",
   "execution_count": 16,
   "id": "a00e051b",
   "metadata": {},
   "outputs": [],
   "source": [
    "a = 7        #Here a is int. We are converting int into str."
   ]
  },
  {
   "cell_type": "code",
   "execution_count": 17,
   "id": "50463e02",
   "metadata": {},
   "outputs": [
    {
     "data": {
      "text/plain": [
       "'7'"
      ]
     },
     "execution_count": 17,
     "metadata": {},
     "output_type": "execute_result"
    }
   ],
   "source": [
    "str(a)"
   ]
  },
  {
   "cell_type": "markdown",
   "id": "cc010fd5",
   "metadata": {},
   "source": [
    "####  10. Why does this expression cause an error? How can you fix it?"
   ]
  },
  {
   "cell_type": "code",
   "execution_count": 22,
   "id": "71479684",
   "metadata": {},
   "outputs": [
    {
     "ename": "TypeError",
     "evalue": "can only concatenate str (not \"int\") to str",
     "output_type": "error",
     "traceback": [
      "\u001b[1;31m---------------------------------------------------------------------------\u001b[0m",
      "\u001b[1;31mTypeError\u001b[0m                                 Traceback (most recent call last)",
      "\u001b[1;32m<ipython-input-22-e91f39a3c12b>\u001b[0m in \u001b[0;36m<module>\u001b[1;34m\u001b[0m\n\u001b[1;32m----> 1\u001b[1;33m \u001b[1;34m\"I have eaten \"\u001b[0m \u001b[1;33m+\u001b[0m \u001b[1;36m99\u001b[0m \u001b[1;33m+\u001b[0m \u001b[1;34m\" burritos\"\u001b[0m\u001b[1;33m\u001b[0m\u001b[1;33m\u001b[0m\u001b[0m\n\u001b[0m",
      "\u001b[1;31mTypeError\u001b[0m: can only concatenate str (not \"int\") to str"
     ]
    }
   ],
   "source": [
    "\"I have eaten \" + 99 + \" burritos\""
   ]
  },
  {
   "cell_type": "code",
   "execution_count": 21,
   "id": "6a4e8bdd",
   "metadata": {},
   "outputs": [
    {
     "data": {
      "text/plain": [
       "'I have eaten 99 burritos'"
      ]
     },
     "execution_count": 21,
     "metadata": {},
     "output_type": "execute_result"
    }
   ],
   "source": [
    "#The above is type error where we need to concatenate str to str.\n",
    "#Hence to overcame it we need convert int to str\n",
    "\"I have eaten \" + str(99) + \" burritos\""
   ]
  }
 ],
 "metadata": {
  "kernelspec": {
   "display_name": "Python 3",
   "language": "python",
   "name": "python3"
  },
  "language_info": {
   "codemirror_mode": {
    "name": "ipython",
    "version": 3
   },
   "file_extension": ".py",
   "mimetype": "text/x-python",
   "name": "python",
   "nbconvert_exporter": "python",
   "pygments_lexer": "ipython3",
   "version": "3.8.8"
  }
 },
 "nbformat": 4,
 "nbformat_minor": 5
}
