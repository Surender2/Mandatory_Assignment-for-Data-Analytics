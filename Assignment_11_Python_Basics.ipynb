{
 "cells": [
  {
   "cell_type": "markdown",
   "id": "85c7bf1c",
   "metadata": {},
   "source": [
    "#### 1.Create an assert statement that throws an AssertionError if the variable spam is a negative integer."
   ]
  },
  {
   "cell_type": "code",
   "execution_count": 3,
   "id": "b1d1b857",
   "metadata": {},
   "outputs": [
    {
     "ename": "AssertionError",
     "evalue": "",
     "output_type": "error",
     "traceback": [
      "\u001b[1;31m---------------------------------------------------------------------------\u001b[0m",
      "\u001b[1;31mAssertionError\u001b[0m                            Traceback (most recent call last)",
      "\u001b[1;32m<ipython-input-3-57f20fc93ba7>\u001b[0m in \u001b[0;36m<module>\u001b[1;34m\u001b[0m\n\u001b[0;32m      1\u001b[0m \u001b[0mspam\u001b[0m \u001b[1;33m=\u001b[0m \u001b[1;33m-\u001b[0m\u001b[1;36m1\u001b[0m\u001b[1;33m\u001b[0m\u001b[1;33m\u001b[0m\u001b[0m\n\u001b[1;32m----> 2\u001b[1;33m \u001b[1;32massert\u001b[0m \u001b[0mspam\u001b[0m \u001b[1;33m>=\u001b[0m \u001b[1;36m10\u001b[0m\u001b[1;33m\u001b[0m\u001b[1;33m\u001b[0m\u001b[0m\n\u001b[0m",
      "\u001b[1;31mAssertionError\u001b[0m: "
     ]
    }
   ],
   "source": [
    "spam = -1\n",
    "assert spam >= 10"
   ]
  },
  {
   "cell_type": "markdown",
   "id": "2e057453",
   "metadata": {},
   "source": [
    "Python provides the assert statement to check whether the logical expression is True or False. Python execution proceeds only if expression is True and raises an assertion Error when it is False. As shown from the above example. "
   ]
  },
  {
   "cell_type": "markdown",
   "id": "68b96d64",
   "metadata": {},
   "source": [
    "#### 2. Write an assert statement that triggers an AssertionError if the variables eggs and bacon contain strings that are the same as each other, even if their cases are different (that is, 'hello' and 'hello'  are considered the same, and 'goodbye' and 'GOODbye' are also considered the same)."
   ]
  },
  {
   "cell_type": "code",
   "execution_count": 22,
   "id": "7307ee80",
   "metadata": {},
   "outputs": [],
   "source": [
    "eggs = 'hello'\n",
    "bacon = 'goodbye'\n",
    "\n",
    "assert eggs.lower() != bacon.lower()"
   ]
  },
  {
   "cell_type": "code",
   "execution_count": 23,
   "id": "d85b1917",
   "metadata": {},
   "outputs": [],
   "source": [
    "eggs = 'hello'\n",
    "bacon = 'GOODbye'\n",
    "\n",
    "assert eggs.upper() != bacon.upper()"
   ]
  },
  {
   "cell_type": "markdown",
   "id": "74ea2e57",
   "metadata": {},
   "source": [
    "from the above two statements eggs/bacon should not be the same"
   ]
  },
  {
   "cell_type": "markdown",
   "id": "fe4efc75",
   "metadata": {},
   "source": [
    "#### 3. Create an assert statement that throws an AssertionError every time."
   ]
  },
  {
   "cell_type": "code",
   "execution_count": 24,
   "id": "f346085f",
   "metadata": {},
   "outputs": [
    {
     "ename": "AssertionError",
     "evalue": "",
     "output_type": "error",
     "traceback": [
      "\u001b[1;31m---------------------------------------------------------------------------\u001b[0m",
      "\u001b[1;31mAssertionError\u001b[0m                            Traceback (most recent call last)",
      "\u001b[1;32m<ipython-input-24-a871fdc9ebee>\u001b[0m in \u001b[0;36m<module>\u001b[1;34m\u001b[0m\n\u001b[1;32m----> 1\u001b[1;33m \u001b[1;32massert\u001b[0m \u001b[1;32mFalse\u001b[0m\u001b[1;33m\u001b[0m\u001b[1;33m\u001b[0m\u001b[0m\n\u001b[0m",
      "\u001b[1;31mAssertionError\u001b[0m: "
     ]
    }
   ],
   "source": [
    "assert False\n",
    "#This statement would throw an assertionError Everytime"
   ]
  },
  {
   "cell_type": "markdown",
   "id": "e2a6af7e",
   "metadata": {},
   "source": [
    "#### 4. What are the two lines that must be present in your software in order to call logging.debug()?"
   ]
  },
  {
   "cell_type": "code",
   "execution_count": 34,
   "id": "981229d1",
   "metadata": {},
   "outputs": [],
   "source": [
    "import logging\n",
    "\n",
    "logging.basicConfig(filename = 'test11.log',level=logging.DEBUG, format=' %(asctime)s : %(levelname)s : %(message)s')"
   ]
  },
  {
   "cell_type": "markdown",
   "id": "ae9e35d6",
   "metadata": {},
   "source": [
    "#### 5. What are the two lines that your program must have in order to have logging.debug() send a logging message to a file named programLog.txt?"
   ]
  },
  {
   "cell_type": "code",
   "execution_count": 2,
   "id": "ebb8dc76",
   "metadata": {},
   "outputs": [],
   "source": [
    "import logging\n",
    "\n",
    "logging.basicConfig(filename = 'programLog.txt',level=logging.DEBUG, format=' %(asctime)s : %(levelname)s : %(message)s')\n",
    "\n",
    "logging.debug('This is a test message.')"
   ]
  },
  {
   "cell_type": "code",
   "execution_count": 3,
   "id": "da54e48c",
   "metadata": {},
   "outputs": [
    {
     "name": "stdout",
     "output_type": "stream",
     "text": [
      " Volume in drive C is Windows\n",
      " Volume Serial Number is CE09-0150\n",
      "\n",
      " Directory of C:\\Users\\sks12\\Desktop\\iNeuron\\LECTURE\\Assignments\n",
      "\n",
      "12-02-2023  03:27 PM    <DIR>          .\n",
      "24-01-2023  02:34 PM    <DIR>          ..\n",
      "08-02-2023  11:38 AM    <DIR>          .ipynb_checkpoints\n",
      "08-10-2022  07:40 PM            20,820 Assignmen_2_Python_Basics.ipynb\n",
      "08-10-2022  07:27 PM    <DIR>          Assignment\n",
      "29-09-2022  11:01 AM            10,061 Assignment_1.docx\n",
      "26-09-2022  11:41 AM            23,038 Assignment_1.ipynb\n",
      "06-10-2022  09:59 AM            11,375 Assignment_1_Python_Basics.ipynb\n",
      "08-02-2023  02:06 PM             9,729 Assignment_10_Python_Basics.ipynb\n",
      "12-02-2023  03:27 PM             9,200 Assignment_11_Python_Basics.ipynb\n",
      "29-09-2022  01:38 PM             9,806 Assignment_2.docx\n",
      "08-10-2022  07:41 PM            20,807 Assignment_2_Python_Basics.ipynb\n",
      "29-10-2022  11:48 AM            30,578 Assignment_25th_Sept.ipynb\n",
      "31-10-2022  10:44 AM            15,574 Assignment_29th_Oct.ipynb\n",
      "17-10-2022  09:07 AM            20,998 Assignment_3_Python_Basics.ipynb\n",
      "03-10-2022  10:58 PM             9,626 Assignment_4.docx\n",
      "17-10-2022  09:14 AM            26,699 Assignment_4_Python_Basics.ipynb\n",
      "28-10-2022  12:23 PM            14,923 Assignment_5_Python_Basics.ipynb\n",
      "29-10-2022  04:05 PM            14,187 Assignment_6_Python_Basics.ipynb\n",
      "05-02-2023  07:00 PM             3,752 Assignment_7_Python_Basics.ipynb\n",
      "07-02-2023  04:26 PM            16,553 Assignment_8_Python_Basics.ipynb\n",
      "07-02-2023  03:47 PM             8,055 Assignment_9_Python_Basics.ipynb\n",
      "03-10-2022  05:09 PM            23,558 Assignment_Oct_1st.ipynb\n",
      "10-10-2022  04:02 PM            14,756 FSDS_bootcamp_assignment_003_Oct_08.ipynb\n",
      "10-10-2022  04:58 PM             7,854 FSDS_bootcamp_assignment_004_Oct_09.ipynb\n",
      "12-02-2023  03:27 PM                 0 programLog.txt\n",
      "17-10-2022  12:38 PM             5,691 Programming_assignment_1.ipynb\n",
      "23-01-2023  10:37 AM             5,133 Programming_Assignment_10.ipynb\n",
      "18-10-2022  11:04 AM            12,001 Programming_assignment_2.ipynb\n",
      "18-10-2022  05:29 PM            11,242 Programming_assignment_3.ipynb\n",
      "19-10-2022  03:19 PM             7,854 Programming_Assignment_4.ipynb\n",
      "29-10-2022  11:48 AM            12,164 Programming_Assignment_5.ipynb\n",
      "09-12-2022  12:58 PM             5,585 Programming_Assignment_6.ipynb\n",
      "11-12-2022  12:50 PM             5,297 Programming_Assignment_7.ipynb\n",
      "28-12-2022  05:39 PM             9,241 Programming_Assignment_8.ipynb\n",
      "25-01-2023  04:37 PM             6,751 Programming_Assignment_9.ipynb\n",
      "07-02-2023  10:23 AM                35 test.txt\n",
      "12-02-2023  03:26 PM               304 test11.log\n",
      "              34 File(s)        403,247 bytes\n",
      "               4 Dir(s)  88,700,219,392 bytes free\n"
     ]
    }
   ],
   "source": [
    "ls"
   ]
  },
  {
   "cell_type": "markdown",
   "id": "2e268f66",
   "metadata": {},
   "source": [
    "2023-02-12 15:27:42,967 : DEBUG : This is a test message.\n",
    "2023-02-12 15:27:45,302 : DEBUG : This is a test message."
   ]
  },
  {
   "cell_type": "markdown",
   "id": "846f61fa",
   "metadata": {},
   "source": [
    "#### 6. What are the five levels of logging?"
   ]
  },
  {
   "cell_type": "markdown",
   "id": "bdfd06d1",
   "metadata": {},
   "source": [
    "1. logging.debug() - variable's state and small details\n",
    "2. logging.info() - general events, confirm a program is working\n",
    "3. logging.warning() - potiental problem to work on in the future\n",
    "4. logging.error() - record an error that caused program to fail to do something\n",
    "5. logging.critical() - fatal error that has caused"
   ]
  },
  {
   "cell_type": "markdown",
   "id": "c2100e34",
   "metadata": {},
   "source": [
    "#### 7. What line of code would you add to your software to disable all logging messages?"
   ]
  },
  {
   "cell_type": "code",
   "execution_count": 5,
   "id": "c4b51ec7",
   "metadata": {},
   "outputs": [],
   "source": [
    "logging.disable(logging.DEBUG)"
   ]
  },
  {
   "cell_type": "markdown",
   "id": "6eb92382",
   "metadata": {},
   "source": [
    "#### 8.Why is using logging messages better than using print() to display the same message?"
   ]
  },
  {
   "cell_type": "markdown",
   "id": "563a673f",
   "metadata": {},
   "source": [
    "logging()\n",
    "1. Easy to see where and when a logging call is being made.\n",
    "2. You can easily log to files and sockets, all at the same time.\n",
    "3. You can differentiate your logging based on levels.\n",
    "4. Logging messages provides a timestamp.\n",
    "\n",
    "Print()\n",
    "1. if your project meant to be imported by other python tool, its bad practice for your package to print these things in stdout.\n",
    "2. since the user likely won't know where the print messages are coming from.\n"
   ]
  },
  {
   "cell_type": "markdown",
   "id": "4a11a92e",
   "metadata": {},
   "source": [
    "#### 9. What are the differences between the Step Over, Step In, and Step Out buttons in the debugger?"
   ]
  },
  {
   "cell_type": "markdown",
   "id": "754c0634",
   "metadata": {},
   "source": [
    "1. Step In - one line execution at a time\n",
    "2. Step Over - excecute the next line of code, but if it is a program, it will complete the entire function call.\n",
    "3. Step Out  - execute the lines of code unti it returns from the current function (out is useful when you stepped into a function call)."
   ]
  },
  {
   "cell_type": "markdown",
   "id": "4ddfbc25",
   "metadata": {},
   "source": [
    "#### 10.After you click Continue, when will the debugger stop ?"
   ]
  },
  {
   "cell_type": "markdown",
   "id": "873b857c",
   "metadata": {},
   "source": [
    "After you click Go, the debugger will stop when it has reached the end of the program or a line with a breakpoint."
   ]
  },
  {
   "cell_type": "markdown",
   "id": "e05a7229",
   "metadata": {},
   "source": [
    "#### 11. What is the concept of a breakpoint?"
   ]
  },
  {
   "cell_type": "markdown",
   "id": "1dcca93c",
   "metadata": {},
   "source": [
    "A breakpoint is a setting on a line of code that causes the debugger to pause when the program execution reaches the line."
   ]
  }
 ],
 "metadata": {
  "kernelspec": {
   "display_name": "Python 3",
   "language": "python",
   "name": "python3"
  },
  "language_info": {
   "codemirror_mode": {
    "name": "ipython",
    "version": 3
   },
   "file_extension": ".py",
   "mimetype": "text/x-python",
   "name": "python",
   "nbconvert_exporter": "python",
   "pygments_lexer": "ipython3",
   "version": "3.8.8"
  }
 },
 "nbformat": 4,
 "nbformat_minor": 5
}
