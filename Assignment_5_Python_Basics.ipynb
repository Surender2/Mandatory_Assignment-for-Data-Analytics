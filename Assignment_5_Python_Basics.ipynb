{
 "cells": [
  {
   "cell_type": "markdown",
   "id": "0d506fc5",
   "metadata": {},
   "source": [
    "#### 1. What does an empty dictionary's code look like?"
   ]
  },
  {
   "cell_type": "markdown",
   "id": "25efdab6",
   "metadata": {},
   "source": [
    "The different ways to create the empty dictionary are\n",
    "1. We can create an empty dictionary object by giving no elements in curly brackets in the assignment statement-'{}'.\n",
    "2. Empty dictionary is also created by dict() built-in function without any arguments - dict()."
   ]
  },
  {
   "cell_type": "code",
   "execution_count": 1,
   "id": "31672dd0",
   "metadata": {},
   "outputs": [],
   "source": [
    "e_dict = {} #Creating empty dictionary using {}"
   ]
  },
  {
   "cell_type": "code",
   "execution_count": 2,
   "id": "84f1c119",
   "metadata": {},
   "outputs": [
    {
     "name": "stdout",
     "output_type": "stream",
     "text": [
      "{}\n",
      "The Datatype of e_dict is <class 'dict'>\n"
     ]
    }
   ],
   "source": [
    "print(e_dict)\n",
    "print(f\"The Datatype of e_dict is {type(e_dict)}\")"
   ]
  },
  {
   "cell_type": "code",
   "execution_count": 3,
   "id": "802d37d8",
   "metadata": {},
   "outputs": [],
   "source": [
    "empty_dict = dict() #Creating empty dictionary using dict() built-in function"
   ]
  },
  {
   "cell_type": "code",
   "execution_count": 4,
   "id": "dd28ab62",
   "metadata": {},
   "outputs": [
    {
     "name": "stdout",
     "output_type": "stream",
     "text": [
      "{}\n",
      "The Datatype of e_dict is <class 'dict'>\n"
     ]
    }
   ],
   "source": [
    "print(empty_dict)\n",
    "print(f\"The Datatype of e_dict is {type(empty_dict)}\")"
   ]
  },
  {
   "cell_type": "markdown",
   "id": "2a353b21",
   "metadata": {},
   "source": [
    "#### 2. What is the value of a dictionary value with the key 'foo' and the value 42?"
   ]
  },
  {
   "cell_type": "code",
   "execution_count": 5,
   "id": "4c98e40c",
   "metadata": {},
   "outputs": [],
   "source": [
    "value = {'foo':42} #Create a dictionary"
   ]
  },
  {
   "cell_type": "code",
   "execution_count": 6,
   "id": "8f59787b",
   "metadata": {},
   "outputs": [
    {
     "name": "stdout",
     "output_type": "stream",
     "text": [
      "The Dictionary is {'foo': 42}\n",
      "The Datatype of value is <class 'dict'>\n"
     ]
    }
   ],
   "source": [
    "print(f\"The Dictionary is {value}\")\n",
    "print(f\"The Datatype of value is {type(value)}\")"
   ]
  },
  {
   "cell_type": "code",
   "execution_count": 8,
   "id": "897e2af7",
   "metadata": {},
   "outputs": [
    {
     "data": {
      "text/plain": [
       "42"
      ]
     },
     "execution_count": 8,
     "metadata": {},
     "output_type": "execute_result"
    }
   ],
   "source": [
    "value['foo'] #Way to find the value of 'foo'"
   ]
  },
  {
   "cell_type": "code",
   "execution_count": 9,
   "id": "af6eb583",
   "metadata": {},
   "outputs": [
    {
     "data": {
      "text/plain": [
       "42"
      ]
     },
     "execution_count": 9,
     "metadata": {},
     "output_type": "execute_result"
    }
   ],
   "source": [
    "value.get('foo')"
   ]
  },
  {
   "cell_type": "markdown",
   "id": "0070d1fc",
   "metadata": {},
   "source": [
    "#### 3. What is the most significant distinction between a dictionary and a list?"
   ]
  },
  {
   "cell_type": "markdown",
   "id": "e1aeda02",
   "metadata": {},
   "source": [
    "Dictionary : \n",
    "1. It is an unorderred collection of key and value pairs.\n",
    "2. It is mutable, But dictionary must be immutable like integers,float,complex,boolean & strings\n",
    "3. The elements are accessed using keys and values.\n",
    "4. The keys of dictionary can be of any data type except list and dictionaries.\n",
    "5. Dictionary is created by placing elements in { } as 'key':'value', each key value pair is separated by commas ','."
   ]
  },
  {
   "cell_type": "code",
   "execution_count": 10,
   "id": "1a1becaf",
   "metadata": {},
   "outputs": [],
   "source": [
    "d = {1: 'MI', 2:'CSK', 3:'KKR', 4:'RR'} #with integers as keys"
   ]
  },
  {
   "cell_type": "code",
   "execution_count": 15,
   "id": "22596c89",
   "metadata": {},
   "outputs": [],
   "source": [
    "d2 = {1.5 : 'MI', 2 : 'CSK', 3+4j : 'KKR', True : ['RR','SRH'], 'one': 'GT'} ##with different datatype as keys"
   ]
  },
  {
   "cell_type": "code",
   "execution_count": 16,
   "id": "377bb35e",
   "metadata": {},
   "outputs": [
    {
     "data": {
      "text/plain": [
       "['RR', 'SRH']"
      ]
     },
     "execution_count": 16,
     "metadata": {},
     "output_type": "execute_result"
    }
   ],
   "source": [
    "d2[True]"
   ]
  },
  {
   "cell_type": "code",
   "execution_count": 17,
   "id": "f7b1d64c",
   "metadata": {},
   "outputs": [
    {
     "data": {
      "text/plain": [
       "'GT'"
      ]
     },
     "execution_count": 17,
     "metadata": {},
     "output_type": "execute_result"
    }
   ],
   "source": [
    "d2['one']"
   ]
  },
  {
   "cell_type": "code",
   "execution_count": 19,
   "id": "e6247a84",
   "metadata": {},
   "outputs": [
    {
     "data": {
      "text/plain": [
       "'MI'"
      ]
     },
     "execution_count": 19,
     "metadata": {},
     "output_type": "execute_result"
    }
   ],
   "source": [
    "d2[1.5]"
   ]
  },
  {
   "cell_type": "markdown",
   "id": "54cd9fcd",
   "metadata": {},
   "source": [
    "list:\n",
    "1. It is ordered collection of items i.e different datatypes.\n",
    "2. It is mutable which means data values can be changed.\n",
    "3. The elements are accessed using indices starting from 0.\n",
    "4. The indices of list are integers starting from 0.\n",
    "5. List is created by placing elements in [] separated by commas ','."
   ]
  },
  {
   "cell_type": "code",
   "execution_count": 20,
   "id": "758476a8",
   "metadata": {},
   "outputs": [],
   "source": [
    "lst = [1,2.0,3+4j,False,'IPL',[1,2,4,5]]"
   ]
  },
  {
   "cell_type": "code",
   "execution_count": 21,
   "id": "26d42bcb",
   "metadata": {},
   "outputs": [
    {
     "data": {
      "text/plain": [
       "1"
      ]
     },
     "execution_count": 21,
     "metadata": {},
     "output_type": "execute_result"
    }
   ],
   "source": [
    "lst[0]"
   ]
  },
  {
   "cell_type": "code",
   "execution_count": 22,
   "id": "d9415cb3",
   "metadata": {},
   "outputs": [
    {
     "data": {
      "text/plain": [
       "[1, 2, 4, 5]"
      ]
     },
     "execution_count": 22,
     "metadata": {},
     "output_type": "execute_result"
    }
   ],
   "source": [
    "lst[-1]"
   ]
  },
  {
   "cell_type": "code",
   "execution_count": 23,
   "id": "8c80dda8",
   "metadata": {},
   "outputs": [
    {
     "data": {
      "text/plain": [
       "5"
      ]
     },
     "execution_count": 23,
     "metadata": {},
     "output_type": "execute_result"
    }
   ],
   "source": [
    "lst[-1][-1]"
   ]
  },
  {
   "cell_type": "markdown",
   "id": "91892032",
   "metadata": {},
   "source": [
    "#### 4. What happens if you try to access spam['foo'] if spam is {'bar' : 100}?"
   ]
  },
  {
   "cell_type": "code",
   "execution_count": 24,
   "id": "5e70afcb",
   "metadata": {},
   "outputs": [],
   "source": [
    "spam = {'bar' : 100} #when you try to access 'foo' would throw key error since key['foo'] is not present in dictionary spam"
   ]
  },
  {
   "cell_type": "code",
   "execution_count": 25,
   "id": "a8675b73",
   "metadata": {},
   "outputs": [
    {
     "ename": "KeyError",
     "evalue": "'foo'",
     "output_type": "error",
     "traceback": [
      "\u001b[1;31m---------------------------------------------------------------------------\u001b[0m",
      "\u001b[1;31mKeyError\u001b[0m                                  Traceback (most recent call last)",
      "\u001b[1;32m<ipython-input-25-9b5a94d1de8d>\u001b[0m in \u001b[0;36m<module>\u001b[1;34m\u001b[0m\n\u001b[1;32m----> 1\u001b[1;33m \u001b[0mspam\u001b[0m\u001b[1;33m[\u001b[0m\u001b[1;34m'foo'\u001b[0m\u001b[1;33m]\u001b[0m\u001b[1;33m\u001b[0m\u001b[1;33m\u001b[0m\u001b[0m\n\u001b[0m",
      "\u001b[1;31mKeyError\u001b[0m: 'foo'"
     ]
    }
   ],
   "source": [
    "spam['foo']"
   ]
  },
  {
   "cell_type": "code",
   "execution_count": 27,
   "id": "8b1497dd",
   "metadata": {},
   "outputs": [
    {
     "name": "stdout",
     "output_type": "stream",
     "text": [
      "None\n"
     ]
    }
   ],
   "source": [
    "#other alternative to overcame this is get built-in function\n",
    "print(spam.get('foo'))     #would print None if element is present in the dictionary"
   ]
  },
  {
   "cell_type": "markdown",
   "id": "08f1ca06",
   "metadata": {},
   "source": [
    "#### 5. If a dictionary is stored in spam, what is the difference between the expressions 'cat' in spam and 'cat' in spam.keys()?"
   ]
  },
  {
   "cell_type": "code",
   "execution_count": 3,
   "id": "fbbdb48a",
   "metadata": {},
   "outputs": [],
   "source": [
    "spam = {'cat' : 1}"
   ]
  },
  {
   "cell_type": "code",
   "execution_count": 5,
   "id": "39c33e85",
   "metadata": {},
   "outputs": [
    {
     "data": {
      "text/plain": [
       "dict_keys(['cat'])"
      ]
     },
     "execution_count": 5,
     "metadata": {},
     "output_type": "execute_result"
    }
   ],
   "source": [
    "spam.keys()"
   ]
  },
  {
   "cell_type": "code",
   "execution_count": 6,
   "id": "af32b842",
   "metadata": {},
   "outputs": [
    {
     "data": {
      "text/plain": [
       "1"
      ]
     },
     "execution_count": 6,
     "metadata": {},
     "output_type": "execute_result"
    }
   ],
   "source": [
    "spam['cat']"
   ]
  },
  {
   "cell_type": "markdown",
   "id": "b660e3b6",
   "metadata": {},
   "source": [
    "There is no difference and 'in' operator checks whether a value exists as a key in the dictionary. 'cat' in spam checks whether there is a 'cat' key in the dictionary, while 'cat' in spam. values() checks whether there is a value 'cat' for one of the keys in spam ."
   ]
  },
  {
   "cell_type": "markdown",
   "id": "5921edb0",
   "metadata": {},
   "source": [
    "#### 6.  If a dictionary is stored in spam, what is the difference between the expressions 'cat' in spam and 'cat' in spam.values() ?"
   ]
  },
  {
   "cell_type": "code",
   "execution_count": 7,
   "id": "f846cd07",
   "metadata": {},
   "outputs": [
    {
     "data": {
      "text/plain": [
       "dict_values([1])"
      ]
     },
     "execution_count": 7,
     "metadata": {},
     "output_type": "execute_result"
    }
   ],
   "source": [
    "spam.values()"
   ]
  },
  {
   "cell_type": "markdown",
   "id": "618c9555",
   "metadata": {},
   "source": [
    "'cat' in spam checks whether there is a 'cat' key in the dictionary, while 'cat' in spam.values() checks whether there is a value 'cat' for one of the keys in spam."
   ]
  },
  {
   "cell_type": "markdown",
   "id": "89291761",
   "metadata": {},
   "source": [
    "#### 7. What is a shortcut for the following code?"
   ]
  },
  {
   "cell_type": "code",
   "execution_count": 12,
   "id": "1be5ac77",
   "metadata": {},
   "outputs": [],
   "source": [
    "spam = {'cat' : 1}"
   ]
  },
  {
   "cell_type": "code",
   "execution_count": 13,
   "id": "6caa7317",
   "metadata": {},
   "outputs": [],
   "source": [
    "if 'color'not in spam:\n",
    "    spam['color'] = 'black'"
   ]
  },
  {
   "cell_type": "code",
   "execution_count": 14,
   "id": "173c8a51",
   "metadata": {},
   "outputs": [
    {
     "data": {
      "text/plain": [
       "{'cat': 1, 'color': 'black'}"
      ]
     },
     "execution_count": 14,
     "metadata": {},
     "output_type": "execute_result"
    }
   ],
   "source": [
    "spam"
   ]
  },
  {
   "cell_type": "code",
   "execution_count": 15,
   "id": "a1b4f2c6",
   "metadata": {},
   "outputs": [
    {
     "data": {
      "text/plain": [
       "'black'"
      ]
     },
     "execution_count": 15,
     "metadata": {},
     "output_type": "execute_result"
    }
   ],
   "source": [
    "spam['color']"
   ]
  },
  {
   "cell_type": "code",
   "execution_count": 16,
   "id": "0ca7a373",
   "metadata": {},
   "outputs": [],
   "source": [
    "#shortcut\n",
    "spam_1 = {'cat' : 1}"
   ]
  },
  {
   "cell_type": "code",
   "execution_count": 18,
   "id": "c87d1fa1",
   "metadata": {},
   "outputs": [
    {
     "data": {
      "text/plain": [
       "'black'"
      ]
     },
     "execution_count": 18,
     "metadata": {},
     "output_type": "execute_result"
    }
   ],
   "source": [
    "spam_1.setdefault('color','black')"
   ]
  },
  {
   "cell_type": "code",
   "execution_count": 19,
   "id": "3e3adff6",
   "metadata": {},
   "outputs": [
    {
     "data": {
      "text/plain": [
       "{'cat': 1, 'color': 'black'}"
      ]
     },
     "execution_count": 19,
     "metadata": {},
     "output_type": "execute_result"
    }
   ],
   "source": [
    "spam_1"
   ]
  },
  {
   "cell_type": "markdown",
   "id": "bd3b8ae2",
   "metadata": {},
   "source": [
    "#### 8. how do you 'pretty print' dictionary values using which module function ?"
   ]
  },
  {
   "cell_type": "code",
   "execution_count": 23,
   "id": "6f45b2eb",
   "metadata": {},
   "outputs": [],
   "source": [
    "# Pretty Print a Dictionary using pprint\n",
    "import pprint"
   ]
  },
  {
   "cell_type": "code",
   "execution_count": 26,
   "id": "e3a54903",
   "metadata": {},
   "outputs": [
    {
     "name": "stdout",
     "output_type": "stream",
     "text": [
      "{'a': 1, 'b': 2, 'c': 3, 'd': 4}\n",
      "{'a': 1, 'b': 2, 'c': 3, 'd': 4}\n"
     ]
    }
   ],
   "source": [
    "d = {\"a\": 1, \"b\": 2, \"c\": 3, \"d\": 4}\n",
    "print(d)\n",
    "pprint.pprint(d)"
   ]
  },
  {
   "cell_type": "code",
   "execution_count": 28,
   "id": "038be73a",
   "metadata": {},
   "outputs": [
    {
     "name": "stdout",
     "output_type": "stream",
     "text": [
      "{'a': 1,\n",
      " 'b': 2,\n",
      " 'c': 3,\n",
      " 'd': 4}\n"
     ]
    }
   ],
   "source": [
    "pprint.pprint(d, width=1)"
   ]
  },
  {
   "cell_type": "code",
   "execution_count": 29,
   "id": "1b7fc7c0",
   "metadata": {},
   "outputs": [
    {
     "name": "stdout",
     "output_type": "stream",
     "text": [
      "{   'a': 1,\n",
      "    'b': 2,\n",
      "    'c': 3,\n",
      "    'd': 4}\n"
     ]
    }
   ],
   "source": [
    "pprint.pprint(d, width=1, indent=4)"
   ]
  }
 ],
 "metadata": {
  "kernelspec": {
   "display_name": "Python 3",
   "language": "python",
   "name": "python3"
  },
  "language_info": {
   "codemirror_mode": {
    "name": "ipython",
    "version": 3
   },
   "file_extension": ".py",
   "mimetype": "text/x-python",
   "name": "python",
   "nbconvert_exporter": "python",
   "pygments_lexer": "ipython3",
   "version": "3.8.8"
  }
 },
 "nbformat": 4,
 "nbformat_minor": 5
}
