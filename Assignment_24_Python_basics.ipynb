{
 "cells": [
  {
   "cell_type": "markdown",
   "id": "b8419659",
   "metadata": {},
   "source": [
    "#### 1. What is the relationship between def statements and lambda expressions ?"
   ]
  },
  {
   "cell_type": "markdown",
   "id": "0ce0d2a2",
   "metadata": {},
   "source": [
    "The relationship between def statements and lambda expressions in Python is that they are both used to define functions, but they differ in syntax and capabilities. Here's an overview of their relationship:"
   ]
  },
  {
   "cell_type": "markdown",
   "id": "9cf15132",
   "metadata": {},
   "source": [
    "def statement: A def statement is used to define a regular function in Python. It consists of the def keyword followed by the function name, a parameter list within parentheses, and a colon. The function body is indented and contains one or more statements.\n",
    "1. A def statement allows you to define named functions with a block of code. It can have multiple statements, use control flow structures (like if-else, loops), and have multiple return statements. It is suitable for defining complex functions that need to be reused multiple times.\n",
    "2. A function defined with a def statement has a name assigned to it, making it a named function. The function can be called and referenced using its name throughout the program."
   ]
  },
  {
   "cell_type": "code",
   "execution_count": 1,
   "id": "ed4c4455",
   "metadata": {},
   "outputs": [],
   "source": [
    "def add_numbers(a, b):\n",
    "    return a + b"
   ]
  },
  {
   "cell_type": "code",
   "execution_count": 2,
   "id": "788f8c62",
   "metadata": {},
   "outputs": [
    {
     "data": {
      "text/plain": [
       "30"
      ]
     },
     "execution_count": 2,
     "metadata": {},
     "output_type": "execute_result"
    }
   ],
   "source": [
    "add_numbers(10,20)"
   ]
  },
  {
   "cell_type": "code",
   "execution_count": 9,
   "id": "c063892f",
   "metadata": {},
   "outputs": [
    {
     "name": "stdout",
     "output_type": "stream",
     "text": [
      "Hello!\n"
     ]
    }
   ],
   "source": [
    "def say_hello():\n",
    "    print(\"Hello!\")\n",
    "\n",
    "say_hello()"
   ]
  },
  {
   "cell_type": "markdown",
   "id": "6fb1fb41",
   "metadata": {},
   "source": [
    "Lambda expression: A lambda expression, also known as an anonymous function, is a way to define a function without explicitly naming it. It uses the lambda keyword, followed by a parameter list, a colon, and an expression. The expression is evaluated and returned as the result of the lambda function.\n",
    "1. A lambda expression allows you to create small, anonymous functions on the fly. They are often used for simple, one-line operations where a function is required as an argument to another function, such as in functional programming paradigms. Lambda functions can only contain a single expression, and the result of that expression is implicitly returned.\n",
    "2. A lambda expression creates an anonymous function without assigning a name to it. Lambda functions are typically used directly as arguments to other functions or assigned to variables for immediate use."
   ]
  },
  {
   "cell_type": "code",
   "execution_count": 7,
   "id": "73b28fde",
   "metadata": {},
   "outputs": [],
   "source": [
    "add_numbers_2 = lambda a, b: a + b"
   ]
  },
  {
   "cell_type": "code",
   "execution_count": 8,
   "id": "729c1dc6",
   "metadata": {},
   "outputs": [
    {
     "data": {
      "text/plain": [
       "3"
      ]
     },
     "execution_count": 8,
     "metadata": {},
     "output_type": "execute_result"
    }
   ],
   "source": [
    "add_numbers_2(1,2)"
   ]
  },
  {
   "cell_type": "code",
   "execution_count": 10,
   "id": "59a4b159",
   "metadata": {},
   "outputs": [
    {
     "name": "stdout",
     "output_type": "stream",
     "text": [
      "Hello, Alice!\n"
     ]
    }
   ],
   "source": [
    "greet = lambda name: print(\"Hello, \" + name + \"!\")\n",
    "\n",
    "greet(\"Alice\") "
   ]
  },
  {
   "cell_type": "markdown",
   "id": "be14f877",
   "metadata": {},
   "source": [
    "#### 2. What is the benefit of lambda?"
   ]
  },
  {
   "cell_type": "markdown",
   "id": "13bfbe0b",
   "metadata": {},
   "source": [
    "1. Concise Syntax: Lambda expressions provide a compact and concise way to define functions. They allow you to define small, one-line functions without the need for a def statement, function name, or explicit return statement.\n",
    "\n",
    "2. Readability: Lambda expressions can enhance code readability, particularly in cases where the function logic is straightforward and doesn't require complex control flow or multiple statements. \n",
    "\n",
    "3. Anonymous Functions: Lambda expressions create anonymous functions, which means they don't have a specific name assigned to them. This can be advantageous in scenarios where the function is only used once or as a parameter to another function.\n",
    "\n",
    "4. Functional Programming: Lambda expressions align with the principles of functional programming, where functions are treated as first-class citizens. \n",
    "\n",
    "5. Higher-Order Functions: Lambda expressions work well with higher-order functions, which are functions that can accept other functions as arguments or return functions. \n",
    "\n",
    "6. Closure: Lambda expressions can capture variables from their surrounding scope, creating closures. This allows the lambda function to access and use variables from the enclosing scope, even after the scope is no longer available. "
   ]
  },
  {
   "cell_type": "markdown",
   "id": "73bdc2d5",
   "metadata": {},
   "source": [
    "#### 3. Compare and contrast map, filter, and reduce."
   ]
  },
  {
   "cell_type": "markdown",
   "id": "d9da0f8d",
   "metadata": {},
   "source": [
    "    1. Functionality:\n",
    "1. map(): The map() function applies a given function to each element of an iterable and returns an iterator that yields the transformed values. It performs a one-to-one mapping between the input sequence and the output sequence.\n",
    "2. filter(): The filter() function applies a given function to each element of an iterable and returns an iterator that yields the elements for which the function evaluates to True. It filters the input sequence based on a specified condition.\n",
    "3. reduce(): The reduce() function applies a given binary function to the elements of an iterable in a cumulative way, reducing the sequence to a single value. It repeatedly applies the function to the accumulated result and the next element until all elements are processed."
   ]
  },
  {
   "cell_type": "markdown",
   "id": "f80886dd",
   "metadata": {},
   "source": [
    "    2. Return Type:\n",
    "1. map(): It returns an iterator that yields the transformed values. To obtain a list of the transformed values, you can convert the iterator to a list using the list() function.\n",
    "2. filter(): It returns an iterator that yields the filtered elements. Similarly, you can convert the iterator to a list using the list() function to obtain a list of filtered values.\n",
    "3. reduce(): It returns a single value, which is the accumulated result obtained by repeatedly applying the binary function to the elements of the iterable."
   ]
  },
  {
   "cell_type": "markdown",
   "id": "02934820",
   "metadata": {},
   "source": [
    "    3. Function Type:\n",
    "1. map(): It requires a function that takes one argument and returns a transformed value. The provided function is applied to each element of the iterable.\n",
    "2. filter(): It requires a function that takes one argument and returns a boolean value indicating whether the element should be included in the filtered output.\n",
    "3. reduce(): It requires a binary function that takes two arguments and returns a single value. This function is applied cumulatively to the elements of the iterable to obtain a single result."
   ]
  },
  {
   "cell_type": "code",
   "execution_count": 1,
   "id": "57b37de7",
   "metadata": {},
   "outputs": [],
   "source": [
    "numbers = [1,2,3,4,5]"
   ]
  },
  {
   "cell_type": "code",
   "execution_count": 2,
   "id": "fbd1bf54",
   "metadata": {},
   "outputs": [],
   "source": [
    "doubled_numbers = list(map(lambda x:x*2,numbers))"
   ]
  },
  {
   "cell_type": "code",
   "execution_count": 3,
   "id": "edf1c15a",
   "metadata": {},
   "outputs": [
    {
     "name": "stdout",
     "output_type": "stream",
     "text": [
      "[2, 4, 6, 8, 10]\n"
     ]
    }
   ],
   "source": [
    "print(doubled_numbers) #map"
   ]
  },
  {
   "cell_type": "code",
   "execution_count": 4,
   "id": "c6f431fd",
   "metadata": {},
   "outputs": [],
   "source": [
    "numbers_1 = [1,2,3,4,5,6,7,8,9,10]"
   ]
  },
  {
   "cell_type": "code",
   "execution_count": 5,
   "id": "ac37a748",
   "metadata": {},
   "outputs": [],
   "source": [
    "even_numbers = list(filter(lambda x:x%2 == 0, numbers_1))"
   ]
  },
  {
   "cell_type": "code",
   "execution_count": 6,
   "id": "26acfe88",
   "metadata": {},
   "outputs": [
    {
     "name": "stdout",
     "output_type": "stream",
     "text": [
      "[2, 4, 6, 8, 10]\n"
     ]
    }
   ],
   "source": [
    "print(even_numbers)  #filter"
   ]
  },
  {
   "cell_type": "code",
   "execution_count": 7,
   "id": "0ea6e68f",
   "metadata": {},
   "outputs": [],
   "source": [
    "from functools import reduce"
   ]
  },
  {
   "cell_type": "code",
   "execution_count": 8,
   "id": "d49fdaf4",
   "metadata": {},
   "outputs": [],
   "source": [
    "numbers_2 = [1,2,3,4,5]"
   ]
  },
  {
   "cell_type": "code",
   "execution_count": 9,
   "id": "e30f731c",
   "metadata": {},
   "outputs": [],
   "source": [
    "sum_result = reduce(lambda x,y : x + y,numbers_2)"
   ]
  },
  {
   "cell_type": "code",
   "execution_count": 10,
   "id": "73f5d2fb",
   "metadata": {},
   "outputs": [
    {
     "name": "stdout",
     "output_type": "stream",
     "text": [
      "15\n"
     ]
    }
   ],
   "source": [
    "print(sum_result)    #reduce"
   ]
  },
  {
   "cell_type": "markdown",
   "id": "61e4dbbe",
   "metadata": {},
   "source": [
    "#### 4. What are function annotations, and how are they used?"
   ]
  },
  {
   "cell_type": "markdown",
   "id": "a7c8bad5",
   "metadata": {},
   "source": [
    "Function annotations in Python allow you to add metadata or type hints to the parameters and return value of a function. They are optional and don't affect the runtime behavior of the function. Function annotations are defined using colons (:) after the parameter or return value name, followed by the annotation expression."
   ]
  },
  {
   "cell_type": "code",
   "execution_count": 11,
   "id": "6970bae4",
   "metadata": {},
   "outputs": [],
   "source": [
    "def add_numbers(a:int,b:int) -> int:\n",
    "    return a + b"
   ]
  },
  {
   "cell_type": "code",
   "execution_count": 12,
   "id": "18a1005e",
   "metadata": {},
   "outputs": [
    {
     "data": {
      "text/plain": [
       "11"
      ]
     },
     "execution_count": 12,
     "metadata": {},
     "output_type": "execute_result"
    }
   ],
   "source": [
    "add_numbers(10,1)"
   ]
  },
  {
   "cell_type": "code",
   "execution_count": 13,
   "id": "0cf739ae",
   "metadata": {},
   "outputs": [
    {
     "data": {
      "text/plain": [
       "11.0"
      ]
     },
     "execution_count": 13,
     "metadata": {},
     "output_type": "execute_result"
    }
   ],
   "source": [
    "add_numbers(10.5,0.5)"
   ]
  },
  {
   "cell_type": "code",
   "execution_count": 14,
   "id": "1c143578",
   "metadata": {},
   "outputs": [],
   "source": [
    "annotations = add_numbers.__annotations__"
   ]
  },
  {
   "cell_type": "code",
   "execution_count": 15,
   "id": "068454a7",
   "metadata": {},
   "outputs": [
    {
     "name": "stdout",
     "output_type": "stream",
     "text": [
      "{'a': <class 'int'>, 'b': <class 'int'>, 'return': <class 'int'>}\n"
     ]
    }
   ],
   "source": [
    "print(annotations)"
   ]
  },
  {
   "cell_type": "markdown",
   "id": "baf321d8",
   "metadata": {},
   "source": [
    "Documentation: Annotations can serve as a form of documentation, conveying the expected types or purpose of the function parameters and return value. It can be helpful for understanding the function's behavior without inspecting the implementation.\n",
    "\n",
    "Type Hints: Annotations can be used to provide type hints to static type checkers, such as mypy. Static type checkers analyze the annotations to detect potential type errors and provide better code analysis and IDE support.\n",
    "\n",
    "Runtime Usage: Although function annotations don't have any built-in functionality at runtime, you can access them using the `__annotations__` attribute of the function. It returns a dictionary containing the parameter and return value annotations."
   ]
  },
  {
   "cell_type": "markdown",
   "id": "59c2afcc",
   "metadata": {},
   "source": [
    "#### 5. What are recursive functions, and how are they used?"
   ]
  },
  {
   "cell_type": "markdown",
   "id": "9f26fe58",
   "metadata": {},
   "source": [
    "Recursive functions are the functions which call themselves with their own definition.\n",
    "The key components in recursive function are:\n",
    "1. Base case : It is condition which specifies when the recursion should stop.\n",
    "2. Recursive Case: It is the condition where the function calls itself, solving a smaller version of the problem. The function continues to call itself until it reaches the base case."
   ]
  },
  {
   "cell_type": "code",
   "execution_count": 1,
   "id": "93035f70",
   "metadata": {},
   "outputs": [],
   "source": [
    "def fact(n):\n",
    "    if n == 0 or n == 1:\n",
    "        return 1\n",
    "    else:\n",
    "        return n * fact(n-1)"
   ]
  },
  {
   "cell_type": "code",
   "execution_count": 2,
   "id": "ea0fa80b",
   "metadata": {},
   "outputs": [
    {
     "data": {
      "text/plain": [
       "120"
      ]
     },
     "execution_count": 2,
     "metadata": {},
     "output_type": "execute_result"
    }
   ],
   "source": [
    "fact(5)"
   ]
  },
  {
   "cell_type": "markdown",
   "id": "4c8a284e",
   "metadata": {},
   "source": [
    "In this example, the factorial() function calculates the factorial of a non-negative integer n. If n is 0 or 1, it returns 1 as the base case. Otherwise, it recursively calls itself with n - 1 and multiplies the current value of n with the factorial of the smaller value. This process continues until n reaches 0."
   ]
  },
  {
   "cell_type": "markdown",
   "id": "15d35a26",
   "metadata": {},
   "source": [
    "When using recursive functions, it's essential to ensure that the base case is reached to prevent infinite recursion and to carefully design the recursive logic to avoid unnecessary function calls."
   ]
  },
  {
   "cell_type": "markdown",
   "id": "bb3ca68e",
   "metadata": {},
   "source": [
    "#### 6. What are some general design guidelines for coding functions?"
   ]
  },
  {
   "cell_type": "markdown",
   "id": "c0c5854f",
   "metadata": {},
   "source": [
    "The General design guidelines for coding functions are:\n",
    "1. Functions should have a single, well-defined responsibility. Each function should focus on performing a specific task or solving a specific problem. This makes the code easier to understand, test, and maintain.\n",
    "2. Breaking down complex tasks into smaller functions improves readability, reusability, and testability.\n",
    "3. Choose meaningful names for functions that accurately describe their purpose and behavior. \n",
    "4. Functions should behave in a way that is expected by other developers who use them. \n",
    "5. Document functions using clear and concise comments or docstrings. Explain the purpose, inputs, outputs, and any relevant details. Provide examples or usage guidelines if necessary.\n",
    "6. Functions should handle errors and exceptions appropriately. "
   ]
  },
  {
   "cell_type": "markdown",
   "id": "11f4399c",
   "metadata": {},
   "source": [
    "#### 7. Name three or more ways that functions can communicate results to a caller."
   ]
  },
  {
   "cell_type": "markdown",
   "id": "193a2e7f",
   "metadata": {},
   "source": [
    "1. Return Statement: The most common way for a function to communicate its result is by using the return statement. The return statement allows a function to send a value or object back to the caller. "
   ]
  },
  {
   "cell_type": "code",
   "execution_count": 3,
   "id": "becb3778",
   "metadata": {},
   "outputs": [],
   "source": [
    "def add_numbers(a,b):\n",
    "    return a + b"
   ]
  },
  {
   "cell_type": "code",
   "execution_count": 4,
   "id": "78eb6b63",
   "metadata": {},
   "outputs": [
    {
     "name": "stdout",
     "output_type": "stream",
     "text": [
      "7\n"
     ]
    }
   ],
   "source": [
    "result = add_numbers(3,4)\n",
    "print(result)"
   ]
  },
  {
   "cell_type": "markdown",
   "id": "a3508225",
   "metadata": {},
   "source": [
    "In this example, the add_numbers() function returns the sum of two numbers using the return statement. The returned value, 7, is assigned to the result variable."
   ]
  },
  {
   "cell_type": "markdown",
   "id": "cd2fa271",
   "metadata": {},
   "source": [
    "2. Modifying Mutable Objects: Functions can also communicate results to the caller by modifying mutable objects that are passed as arguments. "
   ]
  },
  {
   "cell_type": "code",
   "execution_count": 13,
   "id": "9f4ca0b2",
   "metadata": {},
   "outputs": [],
   "source": [
    "def extend_values(lst,value):\n",
    "    lst.extend(value)\n",
    "\n",
    "new_lst = [1,2,3]\n",
    "extend_values(new_lst,[4,5])"
   ]
  },
  {
   "cell_type": "code",
   "execution_count": 14,
   "id": "c5dfe57e",
   "metadata": {},
   "outputs": [
    {
     "name": "stdout",
     "output_type": "stream",
     "text": [
      "[1, 2, 3, 4, 5]\n"
     ]
    }
   ],
   "source": [
    "print(new_lst)"
   ]
  },
  {
   "cell_type": "markdown",
   "id": "3631be82",
   "metadata": {},
   "source": [
    "3. Global Variables: Although generally not recommended, functions can communicate results to the caller by modifying global variables. By declaring a variable as global within a function and modifying its value, the changes can be seen outside the function's scope. "
   ]
  },
  {
   "cell_type": "code",
   "execution_count": 15,
   "id": "fb688bfc",
   "metadata": {},
   "outputs": [
    {
     "name": "stdout",
     "output_type": "stream",
     "text": [
      "1\n"
     ]
    }
   ],
   "source": [
    "cnt = 0\n",
    "\n",
    "def increment_cnt():\n",
    "    global cnt\n",
    "    cnt += 1\n",
    "\n",
    "increment_cnt()\n",
    "print(cnt)"
   ]
  },
  {
   "cell_type": "markdown",
   "id": "c7c4c619",
   "metadata": {},
   "source": [
    "These are three common ways that functions can communicate results to a caller: using the return statement, modifying mutable objects, or modifying global variables. "
   ]
  },
  {
   "cell_type": "code",
   "execution_count": null,
   "id": "e7fa8283",
   "metadata": {},
   "outputs": [],
   "source": []
  },
  {
   "cell_type": "code",
   "execution_count": null,
   "id": "76cf597b",
   "metadata": {},
   "outputs": [],
   "source": []
  },
  {
   "cell_type": "code",
   "execution_count": null,
   "id": "d8c19af4",
   "metadata": {},
   "outputs": [],
   "source": []
  },
  {
   "cell_type": "code",
   "execution_count": null,
   "id": "06e915de",
   "metadata": {},
   "outputs": [],
   "source": []
  },
  {
   "cell_type": "code",
   "execution_count": null,
   "id": "3093d067",
   "metadata": {},
   "outputs": [],
   "source": []
  },
  {
   "cell_type": "code",
   "execution_count": null,
   "id": "ac1e00e5",
   "metadata": {},
   "outputs": [],
   "source": []
  }
 ],
 "metadata": {
  "kernelspec": {
   "display_name": "Python 3",
   "language": "python",
   "name": "python3"
  },
  "language_info": {
   "codemirror_mode": {
    "name": "ipython",
    "version": 3
   },
   "file_extension": ".py",
   "mimetype": "text/x-python",
   "name": "python",
   "nbconvert_exporter": "python",
   "pygments_lexer": "ipython3",
   "version": "3.8.8"
  }
 },
 "nbformat": 4,
 "nbformat_minor": 5
}
