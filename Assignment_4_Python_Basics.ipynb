{
 "cells": [
  {
   "cell_type": "markdown",
   "id": "510df7d6",
   "metadata": {},
   "source": [
    "#### 1. What exactly is []?"
   ]
  },
  {
   "cell_type": "markdown",
   "id": "3fb345ca",
   "metadata": {},
   "source": [
    "1. List is one of sequence data structure.\n",
    "2. List are collection of items(strings, integers or even other lists)\n",
    "3. List are enclosed in []\n",
    "4. Each item in the list has an assigned index value.\n",
    "5. Each item in the list is separated by a comma.\n",
    "6. Lists are mutable which means they can be changed."
   ]
  },
  {
   "cell_type": "markdown",
   "id": "f2299d47",
   "metadata": {},
   "source": [
    "#### 2. In a list of values stored in a variable called spam, how would you assign the value &#39;hello&#39; as the third value? (Assume [2, 4, 6, 8, 10] are in spam.)"
   ]
  },
  {
   "cell_type": "code",
   "execution_count": 1,
   "id": "4e5e5cb9",
   "metadata": {},
   "outputs": [],
   "source": [
    "spam = [2,4,6,8,10]"
   ]
  },
  {
   "cell_type": "code",
   "execution_count": 2,
   "id": "9e12df14",
   "metadata": {},
   "outputs": [],
   "source": [
    "spam[2] = 'hello'"
   ]
  },
  {
   "cell_type": "code",
   "execution_count": 3,
   "id": "c48edfb2",
   "metadata": {},
   "outputs": [
    {
     "data": {
      "text/plain": [
       "[2, 4, 'hello', 8, 10]"
      ]
     },
     "execution_count": 3,
     "metadata": {},
     "output_type": "execute_result"
    }
   ],
   "source": [
    "spam"
   ]
  },
  {
   "cell_type": "markdown",
   "id": "89486d8c",
   "metadata": {},
   "source": [
    "Let's pretend the spam includes the list ['a','b','c','d']"
   ]
  },
  {
   "cell_type": "markdown",
   "id": "e9075d68",
   "metadata": {},
   "source": [
    "#### 3. What is the value of spam[int(int('3' * 2) / 11)]?"
   ]
  },
  {
   "cell_type": "code",
   "execution_count": 4,
   "id": "2d8b8068",
   "metadata": {},
   "outputs": [],
   "source": [
    "spam = ['a','b','c','d'] #spam[3] = 'd'"
   ]
  },
  {
   "cell_type": "code",
   "execution_count": 5,
   "id": "688c6157",
   "metadata": {},
   "outputs": [
    {
     "data": {
      "text/plain": [
       "'d'"
      ]
     },
     "execution_count": 5,
     "metadata": {},
     "output_type": "execute_result"
    }
   ],
   "source": [
    "spam[int(int('3'*2)/11)]"
   ]
  },
  {
   "cell_type": "markdown",
   "id": "b7c10233",
   "metadata": {},
   "source": [
    "#### 4. What is the value of spam[-1]?"
   ]
  },
  {
   "cell_type": "code",
   "execution_count": 6,
   "id": "25bbdf0d",
   "metadata": {},
   "outputs": [],
   "source": [
    "spam = ['a','b','c','d']  #spam[-1] = 'd'"
   ]
  },
  {
   "cell_type": "code",
   "execution_count": 7,
   "id": "bbf77dc2",
   "metadata": {},
   "outputs": [
    {
     "data": {
      "text/plain": [
       "'d'"
      ]
     },
     "execution_count": 7,
     "metadata": {},
     "output_type": "execute_result"
    }
   ],
   "source": [
    "spam[-1]"
   ]
  },
  {
   "cell_type": "markdown",
   "id": "e3b6969b",
   "metadata": {},
   "source": [
    "#### 5. What is the value of spam[:2]?"
   ]
  },
  {
   "cell_type": "code",
   "execution_count": 8,
   "id": "f0bb58b9",
   "metadata": {},
   "outputs": [],
   "source": [
    "spam = ['a','b','c','d']  #spam[:2] = ['a','b']"
   ]
  },
  {
   "cell_type": "code",
   "execution_count": 9,
   "id": "17b52d9d",
   "metadata": {},
   "outputs": [
    {
     "data": {
      "text/plain": [
       "['a', 'b']"
      ]
     },
     "execution_count": 9,
     "metadata": {},
     "output_type": "execute_result"
    }
   ],
   "source": [
    "spam[:2]"
   ]
  },
  {
   "cell_type": "markdown",
   "id": "5cbc6e6d",
   "metadata": {},
   "source": [
    "#### Let's pretend bacon has the list [3.14,'cat',11,'cat',True] for the next three questions."
   ]
  },
  {
   "cell_type": "code",
   "execution_count": 10,
   "id": "fd64548e",
   "metadata": {},
   "outputs": [],
   "source": [
    "bacon = [3.14,'cat',11,'cat',True]"
   ]
  },
  {
   "cell_type": "markdown",
   "id": "65c0f870",
   "metadata": {},
   "source": [
    "#### 6. What is the value of bacon.index('cat')?"
   ]
  },
  {
   "cell_type": "code",
   "execution_count": 11,
   "id": "0d96a12c",
   "metadata": {},
   "outputs": [],
   "source": [
    "bacon = [3.14,'cat',11,'cat',True]  #bacon.index('cat') = 1 i.e because Here it considers the first occurrence"
   ]
  },
  {
   "cell_type": "code",
   "execution_count": 12,
   "id": "dab88f10",
   "metadata": {},
   "outputs": [
    {
     "data": {
      "text/plain": [
       "1"
      ]
     },
     "execution_count": 12,
     "metadata": {},
     "output_type": "execute_result"
    }
   ],
   "source": [
    "bacon.index('cat')"
   ]
  },
  {
   "cell_type": "markdown",
   "id": "67bc3321",
   "metadata": {},
   "source": [
    "#### 7.How does bacon.append(99) change the look of the list value in bacon?"
   ]
  },
  {
   "cell_type": "code",
   "execution_count": null,
   "id": "57251ed9",
   "metadata": {},
   "outputs": [],
   "source": [
    "bacon = [3.14,'cat',11,'cat',True]  #bacon = [3.14,'cat',11,'cat',True,99]"
   ]
  },
  {
   "cell_type": "code",
   "execution_count": 13,
   "id": "1481bee7",
   "metadata": {},
   "outputs": [
    {
     "data": {
      "text/plain": [
       "[3.14, 'cat', 11, 'cat', True, 99]"
      ]
     },
     "execution_count": 13,
     "metadata": {},
     "output_type": "execute_result"
    }
   ],
   "source": [
    "bacon.append(99)\n",
    "bacon"
   ]
  },
  {
   "cell_type": "markdown",
   "id": "dba9a432",
   "metadata": {},
   "source": [
    "#### 8.How does bacon.remove(&#39;cat&#39;) change the look of the list in bacon?"
   ]
  },
  {
   "cell_type": "code",
   "execution_count": null,
   "id": "d6af34ea",
   "metadata": {},
   "outputs": [],
   "source": [
    "bacon = [3.14,'cat',11,'cat',True]   #bacon.remove('cat') = [3.14,11,'cat',True]"
   ]
  },
  {
   "cell_type": "code",
   "execution_count": 14,
   "id": "de912b75",
   "metadata": {},
   "outputs": [
    {
     "data": {
      "text/plain": [
       "[3.14, 11, 'cat', True, 99]"
      ]
     },
     "execution_count": 14,
     "metadata": {},
     "output_type": "execute_result"
    }
   ],
   "source": [
    "bacon.remove('cat')\n",
    "bacon"
   ]
  },
  {
   "cell_type": "markdown",
   "id": "c1d1c663",
   "metadata": {},
   "source": [
    "#### 9. What are the list concatenation and list replication operators?"
   ]
  },
  {
   "cell_type": "markdown",
   "id": "d4e0c4b1",
   "metadata": {},
   "source": [
    "List Concatenation is a operation where the elements of one list are added at the end of another list and the general way to concatenate the two lists in python."
   ]
  },
  {
   "cell_type": "code",
   "execution_count": 1,
   "id": "e465fb69",
   "metadata": {},
   "outputs": [],
   "source": [
    "a = [1,2,3]\n",
    "b = [4,5,6]"
   ]
  },
  {
   "cell_type": "code",
   "execution_count": 2,
   "id": "c1248ed8",
   "metadata": {},
   "outputs": [
    {
     "name": "stdout",
     "output_type": "stream",
     "text": [
      "[1, 2, 3, 4, 5, 6]\n"
     ]
    }
   ],
   "source": [
    "c = a + b\n",
    "print(c)"
   ]
  },
  {
   "cell_type": "code",
   "execution_count": 3,
   "id": "069b425d",
   "metadata": {},
   "outputs": [
    {
     "name": "stdout",
     "output_type": "stream",
     "text": [
      "[1, 2, 3, 4, 5, 6]\n"
     ]
    }
   ],
   "source": [
    "#ALternative way is using extend function\n",
    "a.extend(b)\n",
    "print(a)"
   ]
  },
  {
   "cell_type": "markdown",
   "id": "55a50788",
   "metadata": {},
   "source": [
    "List Replication is a operation where the elements or items  in the list are repeated by * operator.If you need to replicate the list A say 3 times, you could use the * operator. This will create a new list d."
   ]
  },
  {
   "cell_type": "code",
   "execution_count": 4,
   "id": "b3edb94c",
   "metadata": {},
   "outputs": [],
   "source": [
    "A = [1,2,3]"
   ]
  },
  {
   "cell_type": "code",
   "execution_count": 5,
   "id": "fccfb04d",
   "metadata": {},
   "outputs": [
    {
     "name": "stdout",
     "output_type": "stream",
     "text": [
      "[1, 2, 3, 1, 2, 3, 1, 2, 3]\n"
     ]
    }
   ],
   "source": [
    "D = A * 3\n",
    "print(D)"
   ]
  },
  {
   "cell_type": "markdown",
   "id": "eeb1be09",
   "metadata": {},
   "source": [
    "#### 10.What is difference between the list methods append() and insert()?"
   ]
  },
  {
   "cell_type": "markdown",
   "id": "006be1c4",
   "metadata": {},
   "source": [
    "List append : In this method,a new element is added at the end of list and append method takes one argument. The length of list can increased by 1."
   ]
  },
  {
   "cell_type": "code",
   "execution_count": 2,
   "id": "16360355",
   "metadata": {},
   "outputs": [
    {
     "name": "stdout",
     "output_type": "stream",
     "text": [
      "['Fullstack', 'Analytics']\n"
     ]
    }
   ],
   "source": [
    "lst = ['Fullstack']\n",
    "lst.append('Analytics')\n",
    "print(lst)"
   ]
  },
  {
   "cell_type": "markdown",
   "id": "4a23b965",
   "metadata": {},
   "source": [
    "List insert : In this method, a new element can be added at any desired position and takes two arguments. Index where\n",
    "the element need to inserted has to added."
   ]
  },
  {
   "cell_type": "code",
   "execution_count": 3,
   "id": "e311b2f4",
   "metadata": {},
   "outputs": [
    {
     "name": "stdout",
     "output_type": "stream",
     "text": [
      "['Fullstack', 'Analytics', 'Bootcamp']\n"
     ]
    }
   ],
   "source": [
    "lst = ['Fullstack','Bootcamp']\n",
    "lst.insert(1,'Analytics')\n",
    "print(lst)"
   ]
  },
  {
   "cell_type": "markdown",
   "id": "3c5b71e6",
   "metadata": {},
   "source": [
    "#### 11. What are the two methods for removing items from a list?"
   ]
  },
  {
   "cell_type": "code",
   "execution_count": 11,
   "id": "81f1d8f4",
   "metadata": {},
   "outputs": [],
   "source": [
    "lst = ['CSK','MI','RR','KKR','RCB','DC','SRH','DC']"
   ]
  },
  {
   "cell_type": "code",
   "execution_count": 12,
   "id": "40a95a96",
   "metadata": {},
   "outputs": [
    {
     "data": {
      "text/plain": [
       "['CSK', 'MI', 'RR', 'KKR', 'RCB', 'SRH', 'DC']"
      ]
     },
     "execution_count": 12,
     "metadata": {},
     "output_type": "execute_result"
    }
   ],
   "source": [
    "lst.remove('DC')  #remove method eliminates the first occurence of 'DC'\n",
    "lst"
   ]
  },
  {
   "cell_type": "code",
   "execution_count": 13,
   "id": "53c8ad56",
   "metadata": {},
   "outputs": [
    {
     "name": "stdout",
     "output_type": "stream",
     "text": [
      "DC\n",
      "['CSK', 'MI', 'RR', 'KKR', 'RCB', 'SRH']\n"
     ]
    }
   ],
   "source": [
    "a = lst.pop() #pop function removes end of list by default & based on position of item and it returns the deleted item\n",
    "print(a)\n",
    "print(lst)"
   ]
  },
  {
   "cell_type": "code",
   "execution_count": 14,
   "id": "d2db1efe",
   "metadata": {},
   "outputs": [
    {
     "data": {
      "text/plain": [
       "['CSK', 'RR', 'KKR', 'RCB', 'SRH']"
      ]
     },
     "execution_count": 14,
     "metadata": {},
     "output_type": "execute_result"
    }
   ],
   "source": [
    "del lst[1] #del fucntion removes based on index of item in the list\n",
    "lst"
   ]
  },
  {
   "cell_type": "markdown",
   "id": "0e91fa54",
   "metadata": {},
   "source": [
    "#### 12. Describe how list values and string values are identical."
   ]
  },
  {
   "cell_type": "markdown",
   "id": "c3cc5c08",
   "metadata": {},
   "source": [
    "1. List is a type of data structure and it is an ordered collection of items such as integers, string and indexing attribute is  there.\n",
    "2. String is also data structure and it is ordered sequence of unicode characters and indexing attribute is there here also.\n",
    "3. Both lists and strings can be passed to len(), have indexes and slices be used in for loops, be concatenated or replicated, and be used with the in and not in operators."
   ]
  },
  {
   "cell_type": "code",
   "execution_count": 18,
   "id": "5f1a5800",
   "metadata": {},
   "outputs": [],
   "source": [
    "lst = ['I','N','D','U','S']\n",
    "str1 = 'INDUS'\n",
    "#Indexing is same in both list and string.\n"
   ]
  },
  {
   "cell_type": "code",
   "execution_count": 21,
   "id": "b0ffa151",
   "metadata": {},
   "outputs": [
    {
     "name": "stdout",
     "output_type": "stream",
     "text": [
      "I\n",
      "2530265982000\n"
     ]
    }
   ],
   "source": [
    "print(lst[0])\n",
    "print(id(lst[0]))"
   ]
  },
  {
   "cell_type": "code",
   "execution_count": 22,
   "id": "41c0140c",
   "metadata": {},
   "outputs": [
    {
     "name": "stdout",
     "output_type": "stream",
     "text": [
      "I\n",
      "2530265982000\n"
     ]
    }
   ],
   "source": [
    "print(str1[0])\n",
    "print(id(str1[0]))"
   ]
  },
  {
   "cell_type": "code",
   "execution_count": 27,
   "id": "6cf5d549",
   "metadata": {},
   "outputs": [],
   "source": [
    "lst1 = [2,0,8]\n",
    "str2 = '208'"
   ]
  },
  {
   "cell_type": "code",
   "execution_count": 28,
   "id": "532be9e1",
   "metadata": {},
   "outputs": [
    {
     "name": "stdout",
     "output_type": "stream",
     "text": [
      "2\n",
      "2\n"
     ]
    }
   ],
   "source": [
    "print(lst1[0])\n",
    "print(str2[0])"
   ]
  },
  {
   "cell_type": "markdown",
   "id": "0e0af6b9",
   "metadata": {},
   "source": [
    "1. List values and string values are pointing to same object i.e same memory address. It is also called as interning\n",
    "2. Every character in a string as well as every item in a list has a position which is known as an index.\n",
    "3. A length of a string is the number of characters in the string and a length of a list is the number of items in the list."
   ]
  },
  {
   "cell_type": "markdown",
   "id": "f199391e",
   "metadata": {},
   "source": [
    "#### 13. What's the difference between tuples and lists?"
   ]
  },
  {
   "cell_type": "markdown",
   "id": "d1c97e4d",
   "metadata": {},
   "source": [
    "Tuple\n",
    "1. It is a sequence datastructure, where it is an ordered collection of items\n",
    "2. It is immutable which means data values are unchangeable once assigned.\n",
    "3. The Elements are enclosed with () and separated by commas\n",
    "4. For Ex: t = (1,2,3,4,5)\n",
    "    \n",
    "List\n",
    "1. It is a sequence datastructure, where it is an ordered collection of items\n",
    "2. It is mutable which means data values are changeable even after assignment.\n",
    "3. The Elements are enclosed with [] and separated by commas\n",
    "4. For Ex : [1,3,4,5]"
   ]
  },
  {
   "cell_type": "markdown",
   "id": "f3aaf097",
   "metadata": {},
   "source": [
    "#### 14. How do you type a tuple value that only contains the integer 42?"
   ]
  },
  {
   "cell_type": "code",
   "execution_count": 14,
   "id": "c3ebbdc7",
   "metadata": {},
   "outputs": [],
   "source": [
    "a = 42"
   ]
  },
  {
   "cell_type": "code",
   "execution_count": 15,
   "id": "cc3f124c",
   "metadata": {},
   "outputs": [
    {
     "name": "stdout",
     "output_type": "stream",
     "text": [
      "<class 'int'>\n"
     ]
    }
   ],
   "source": [
    "print(type(a))"
   ]
  },
  {
   "cell_type": "code",
   "execution_count": 16,
   "id": "769599ed",
   "metadata": {},
   "outputs": [
    {
     "name": "stdout",
     "output_type": "stream",
     "text": [
      "<class 'tuple'>\n",
      "(42,)\n"
     ]
    }
   ],
   "source": [
    "#Inorder to convert the datatype int 42 to tuple. we can use comma succeeding 42 integer \n",
    "a = 42,                   #Round Parenthesis is not mandatory\n",
    "print(type(a))\n",
    "print(a)"
   ]
  },
  {
   "cell_type": "markdown",
   "id": "10147b76",
   "metadata": {},
   "source": [
    "#### 15. How do you get a list value's tuple form? How do you get a tuple value's list form?"
   ]
  },
  {
   "cell_type": "markdown",
   "id": "3cecce9c",
   "metadata": {},
   "source": [
    "We can use list() and tuple() functions to return the tuple and list versions of the data values passed to them."
   ]
  },
  {
   "cell_type": "code",
   "execution_count": 11,
   "id": "03a852d5",
   "metadata": {},
   "outputs": [
    {
     "name": "stdout",
     "output_type": "stream",
     "text": [
      "('CSK', 'RCB', 'MI', 'DC')\n",
      "<class 'tuple'>\n"
     ]
    }
   ],
   "source": [
    "lst = ['CSK','RCB','MI','DC']\n",
    "t = tuple(['CSK','RCB','MI','DC'])\n",
    "print(t)\n",
    "print(type(t))"
   ]
  },
  {
   "cell_type": "code",
   "execution_count": 12,
   "id": "6c3ab239",
   "metadata": {},
   "outputs": [
    {
     "name": "stdout",
     "output_type": "stream",
     "text": [
      "['RR', 'KKR', 'SRH', 'PBKS']\n",
      "<class 'list'>\n"
     ]
    }
   ],
   "source": [
    "t1 = ('RR','KKR','SRH','PBKS')\n",
    "lst1 = list(('RR','KKR','SRH','PBKS'))\n",
    "print(lst1)\n",
    "print(type(lst1))"
   ]
  },
  {
   "cell_type": "markdown",
   "id": "5c2f7981",
   "metadata": {},
   "source": [
    "#### 16. Variables that \"contain\" list values are not necessarily lists themselves. Instead, what do they contain?"
   ]
  },
  {
   "cell_type": "markdown",
   "id": "51b2e42e",
   "metadata": {},
   "source": [
    "Concept of mutable and immuatablity\n",
    "1. For immutable datatypes are int, float, decimal, bool, string, tuple, and range.\n",
    "2. For mutable datatypes are list, dictionary, set and user-defined classes."
   ]
  },
  {
   "cell_type": "code",
   "execution_count": 17,
   "id": "e44c924e",
   "metadata": {},
   "outputs": [
    {
     "name": "stdout",
     "output_type": "stream",
     "text": [
      "140720041438288\n",
      "140720041438320\n"
     ]
    }
   ],
   "source": [
    "number = 42\n",
    "print(id(number))\n",
    "\n",
    "number += 1\n",
    "print(id(number))"
   ]
  },
  {
   "cell_type": "code",
   "execution_count": 19,
   "id": "f96e3c36",
   "metadata": {},
   "outputs": [
    {
     "name": "stdout",
     "output_type": "stream",
     "text": [
      "2558639997296\n",
      "2558639974560\n"
     ]
    }
   ],
   "source": [
    "text = \"Data Science\"\n",
    "print(id(text))\n",
    "\n",
    "text += \" with Python\"\n",
    "print(id(text))"
   ]
  },
  {
   "cell_type": "markdown",
   "id": "ae1d476e",
   "metadata": {},
   "source": [
    "We see that both for the number and text variables, their identity is changed. This means that new variables are created in both cases."
   ]
  },
  {
   "cell_type": "code",
   "execution_count": 20,
   "id": "5b3339c4",
   "metadata": {},
   "outputs": [
    {
     "name": "stdout",
     "output_type": "stream",
     "text": [
      "2558640015040\n",
      "2558640015040\n",
      "True\n",
      "[4, 5, 6, 7]\n",
      "[4, 5, 6, 7]\n"
     ]
    }
   ],
   "source": [
    "values = [4, 5, 6]\n",
    "values2 = values\n",
    "print(id(values))\n",
    "print(id(values2))\n",
    "\n",
    "values.append(7)\n",
    "print(values is values2)\n",
    "print(values)\n",
    "print(values2)"
   ]
  },
  {
   "cell_type": "markdown",
   "id": "de4adba0",
   "metadata": {},
   "source": [
    "We can see that the variable names have the same identity meaning that they are referencing to the same object in computer memory.\n",
    "Every time when we try to update the value of an immutable object, a new object is created instead"
   ]
  },
  {
   "cell_type": "markdown",
   "id": "7d9e8893",
   "metadata": {},
   "source": [
    "Hence Variables will contain references to list values rather than list values themselves. But for strings and integer values, variables simply contain the string or integer value. Python uses references whenever variables must store values of mutable data types, such as lists or dictionaries. For values of immutable data types such as strings, integers, or tuples, Python variables will store the value itself."
   ]
  },
  {
   "cell_type": "markdown",
   "id": "982b992c",
   "metadata": {},
   "source": [
    "#### 17.How do you distinguish between copy.copy() and copy.deepcopy()?"
   ]
  },
  {
   "cell_type": "code",
   "execution_count": 37,
   "id": "12555761",
   "metadata": {},
   "outputs": [],
   "source": [
    "lst = ['CSK','RR','RCB','MI']\n",
    "lst2 = lst"
   ]
  },
  {
   "cell_type": "code",
   "execution_count": 38,
   "id": "34af17d2",
   "metadata": {},
   "outputs": [
    {
     "name": "stdout",
     "output_type": "stream",
     "text": [
      "['CSK', 'RR', 'RCB', 'MI']\n",
      "['CSK', 'RR', 'RCB', 'MI']\n"
     ]
    }
   ],
   "source": [
    "print(lst)\n",
    "print(lst2)"
   ]
  },
  {
   "cell_type": "code",
   "execution_count": 39,
   "id": "fe822b42",
   "metadata": {},
   "outputs": [],
   "source": [
    "lst[1] = 'SRH'"
   ]
  },
  {
   "cell_type": "code",
   "execution_count": 41,
   "id": "b747d3d6",
   "metadata": {},
   "outputs": [
    {
     "name": "stdout",
     "output_type": "stream",
     "text": [
      "['CSK', 'SRH', 'RCB', 'MI']\n",
      "['CSK', 'SRH', 'RCB', 'MI']\n"
     ]
    }
   ],
   "source": [
    "print(lst)\n",
    "print(lst2) #Here we can notice that even if change the data value in list 2 correspondingly list 1 also updated.\n",
    "#This is because both lists are referring same ID(same memory address). "
   ]
  },
  {
   "cell_type": "code",
   "execution_count": 42,
   "id": "37bfeba3",
   "metadata": {},
   "outputs": [],
   "source": [
    "#shallow copy()\n",
    "lst1 = ['CSK','RR','RCB','MI']\n",
    "lst2 = lst1.copy()"
   ]
  },
  {
   "cell_type": "code",
   "execution_count": 43,
   "id": "d56cad1c",
   "metadata": {},
   "outputs": [
    {
     "data": {
      "text/plain": [
       "['CSK', 'RR', 'RCB', 'MI']"
      ]
     },
     "execution_count": 43,
     "metadata": {},
     "output_type": "execute_result"
    }
   ],
   "source": [
    "lst2"
   ]
  },
  {
   "cell_type": "code",
   "execution_count": 44,
   "id": "04dd2cfa",
   "metadata": {},
   "outputs": [],
   "source": [
    "lst2[1] = 'KKR'"
   ]
  },
  {
   "cell_type": "code",
   "execution_count": 45,
   "id": "f28da084",
   "metadata": {},
   "outputs": [
    {
     "name": "stdout",
     "output_type": "stream",
     "text": [
      "['CSK', 'RR', 'RCB', 'MI']\n",
      "['CSK', 'KKR', 'RCB', 'MI']\n"
     ]
    }
   ],
   "source": [
    "print(lst1)\n",
    "print(lst2)\n",
    "#Here Both are creating two different memory allocation "
   ]
  },
  {
   "cell_type": "code",
   "execution_count": 46,
   "id": "5c9c5a21",
   "metadata": {},
   "outputs": [],
   "source": [
    "#But in case of nested list\n",
    "#Shallow copy()\n",
    "lst1 = [['CSK','RR','RCB','MI'],['Chennai','Rajasthan','Bengaluru','Mumbai']]\n",
    "lst2 = lst1.copy()"
   ]
  },
  {
   "cell_type": "code",
   "execution_count": 47,
   "id": "e1fcaa05",
   "metadata": {},
   "outputs": [],
   "source": [
    "lst1[1][1] = 'Kolkota'"
   ]
  },
  {
   "cell_type": "code",
   "execution_count": 48,
   "id": "145f2931",
   "metadata": {},
   "outputs": [
    {
     "name": "stdout",
     "output_type": "stream",
     "text": [
      "[['CSK', 'RR', 'RCB', 'MI'], ['Chennai', 'Kolkota', 'Bengaluru', 'Mumbai']]\n",
      "[['CSK', 'RR', 'RCB', 'MI'], ['Chennai', 'Kolkota', 'Bengaluru', 'Mumbai']]\n"
     ]
    }
   ],
   "source": [
    "print(lst1)\n",
    "print(lst2)\n",
    "#Here it is referrring to the same objects in the nested list and any change in the objects, other list is also changes."
   ]
  },
  {
   "cell_type": "code",
   "execution_count": 49,
   "id": "1d55977e",
   "metadata": {},
   "outputs": [],
   "source": [
    "lst1.append([1,2,3,4])"
   ]
  },
  {
   "cell_type": "code",
   "execution_count": 50,
   "id": "f35ec5ce",
   "metadata": {},
   "outputs": [
    {
     "name": "stdout",
     "output_type": "stream",
     "text": [
      "[['CSK', 'RR', 'RCB', 'MI'], ['Chennai', 'Kolkota', 'Bengaluru', 'Mumbai'], [1, 2, 3, 4]]\n",
      "[['CSK', 'RR', 'RCB', 'MI'], ['Chennai', 'Kolkota', 'Bengaluru', 'Mumbai']]\n"
     ]
    }
   ],
   "source": [
    "print(lst1)\n",
    "print(lst2) #Since we are appending here and it's not updated here."
   ]
  },
  {
   "cell_type": "code",
   "execution_count": 51,
   "id": "2b0c4f15",
   "metadata": {},
   "outputs": [],
   "source": [
    "#deep copy()\n",
    "lst1 = ['CSK','RR','RCB','MI']\n",
    "lst2 = copy.deepcopy(lst1)"
   ]
  },
  {
   "cell_type": "code",
   "execution_count": 52,
   "id": "5ec034d8",
   "metadata": {},
   "outputs": [],
   "source": [
    "lst1[1] = 'KKR'"
   ]
  },
  {
   "cell_type": "code",
   "execution_count": 53,
   "id": "478122c3",
   "metadata": {},
   "outputs": [
    {
     "name": "stdout",
     "output_type": "stream",
     "text": [
      "['CSK', 'KKR', 'RCB', 'MI']\n",
      "['CSK', 'RR', 'RCB', 'MI']\n"
     ]
    }
   ],
   "source": [
    "print(lst1)\n",
    "print(lst2)\n",
    "#Here Both are creating two different memory allocation and works similiar to shallow copy"
   ]
  },
  {
   "cell_type": "code",
   "execution_count": 54,
   "id": "1748c260",
   "metadata": {},
   "outputs": [],
   "source": [
    "#But in case of nested list\n",
    "#deep copy()\n",
    "lst1 = [['CSK','RR','RCB','MI'],['Chennai','Rajasthan','Bengaluru','Mumbai']]\n",
    "lst2 = copy.deepcopy(lst1)"
   ]
  },
  {
   "cell_type": "code",
   "execution_count": 55,
   "id": "f0593a35",
   "metadata": {},
   "outputs": [],
   "source": [
    "lst1[1][1] = 'Kolkota'"
   ]
  },
  {
   "cell_type": "code",
   "execution_count": 56,
   "id": "e3faa743",
   "metadata": {},
   "outputs": [
    {
     "name": "stdout",
     "output_type": "stream",
     "text": [
      "[['CSK', 'RR', 'RCB', 'MI'], ['Chennai', 'Kolkota', 'Bengaluru', 'Mumbai']]\n",
      "[['CSK', 'RR', 'RCB', 'MI'], ['Chennai', 'Rajasthan', 'Bengaluru', 'Mumbai']]\n"
     ]
    }
   ],
   "source": [
    "print(lst1)\n",
    "print(lst2)\n",
    "#In this case two separate memory allocation takes place and even with respect to nested list also"
   ]
  }
 ],
 "metadata": {
  "kernelspec": {
   "display_name": "Python 3",
   "language": "python",
   "name": "python3"
  },
  "language_info": {
   "codemirror_mode": {
    "name": "ipython",
    "version": 3
   },
   "file_extension": ".py",
   "mimetype": "text/x-python",
   "name": "python",
   "nbconvert_exporter": "python",
   "pygments_lexer": "ipython3",
   "version": "3.8.8"
  }
 },
 "nbformat": 4,
 "nbformat_minor": 5
}
