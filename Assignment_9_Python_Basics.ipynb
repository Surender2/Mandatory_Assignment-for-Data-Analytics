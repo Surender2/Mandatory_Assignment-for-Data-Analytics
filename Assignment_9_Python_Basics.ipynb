{
 "cells": [
  {
   "cell_type": "markdown",
   "id": "2fa7bcfa",
   "metadata": {},
   "source": [
    "#### 1. To what does a relative path refer?"
   ]
  },
  {
   "cell_type": "markdown",
   "id": "f16c9e03",
   "metadata": {},
   "source": [
    "1. Relative paths are relative to the current working directory.\n",
    "2. A relative path is a way to specify the location of a directory relative to another directory"
   ]
  },
  {
   "cell_type": "code",
   "execution_count": 1,
   "id": "cd5e2848",
   "metadata": {},
   "outputs": [],
   "source": [
    "import os"
   ]
  },
  {
   "cell_type": "code",
   "execution_count": 4,
   "id": "c060a3de",
   "metadata": {},
   "outputs": [
    {
     "name": "stdout",
     "output_type": "stream",
     "text": [
      "C:\\Users\\sks12\\Desktop\\iNeuron\\LECTURE\\Assignments\n"
     ]
    }
   ],
   "source": [
    "print(os.getcwd())"
   ]
  },
  {
   "cell_type": "markdown",
   "id": "dcdf6611",
   "metadata": {},
   "source": [
    "#### 2. What does an absolute path start with your operating system?"
   ]
  },
  {
   "cell_type": "markdown",
   "id": "161ebc5b",
   "metadata": {},
   "source": [
    "Absolute paths start with the root folder, such as / or C:\\"
   ]
  },
  {
   "cell_type": "code",
   "execution_count": 6,
   "id": "afd387ec",
   "metadata": {},
   "outputs": [
    {
     "name": "stdout",
     "output_type": "stream",
     "text": [
      "C:\\Users\\sks12\\Desktop\\iNeuron\\LECTURE\\Assignments\n"
     ]
    }
   ],
   "source": [
    "print(os.getcwd())"
   ]
  },
  {
   "cell_type": "markdown",
   "id": "a583eabb",
   "metadata": {},
   "source": [
    "#### 3. What do the functions os.getcwd() and os.chdir() do?"
   ]
  },
  {
   "cell_type": "markdown",
   "id": "65715e8f",
   "metadata": {},
   "source": [
    "1. The os.getcwd() function returns the current working directory.\n",
    "2. The os.chdir() function changes the current working directory."
   ]
  },
  {
   "cell_type": "code",
   "execution_count": 7,
   "id": "c5b16fd8",
   "metadata": {},
   "outputs": [
    {
     "name": "stdout",
     "output_type": "stream",
     "text": [
      "C:\\Users\\sks12\\Desktop\\iNeuron\\LECTURE\\Assignments\n"
     ]
    }
   ],
   "source": [
    "print(os.getcwd())"
   ]
  },
  {
   "cell_type": "code",
   "execution_count": 9,
   "id": "54b8a893",
   "metadata": {},
   "outputs": [
    {
     "name": "stdout",
     "output_type": "stream",
     "text": [
      "Current working directory : \n",
      "C:\\Users\\sks12\\Desktop\\iNeuron\\LECTURE\\Assignments\n",
      "\n",
      "Current working directory : \n",
      "C:\\Users\\sks12\\Desktop\\iNeuron\\LECTURE\n",
      "\n"
     ]
    }
   ],
   "source": [
    "def change_path():\n",
    "    print(\"Current working directory : \")\n",
    "    print(os.getcwd())\n",
    "    print()\n",
    "    \n",
    "change_path()\n",
    "\n",
    "os.chdir(r\"C:\\Users\\sks12\\Desktop\\iNeuron\\LECTURE\")\n",
    "\n",
    "change_path()"
   ]
  },
  {
   "cell_type": "code",
   "execution_count": 10,
   "id": "16b28adb",
   "metadata": {},
   "outputs": [],
   "source": [
    "os.chdir(r\"C:\\Users\\sks12\\Desktop\\iNeuron\\LECTURE\\Assignments\")"
   ]
  },
  {
   "cell_type": "code",
   "execution_count": 11,
   "id": "1f424367",
   "metadata": {},
   "outputs": [
    {
     "name": "stdout",
     "output_type": "stream",
     "text": [
      "C:\\Users\\sks12\\Desktop\\iNeuron\\LECTURE\\Assignments\n"
     ]
    }
   ],
   "source": [
    "print(os.getcwd())"
   ]
  },
  {
   "cell_type": "markdown",
   "id": "22c6703b",
   "metadata": {},
   "source": [
    "#### 4.What are the . and .. folders?"
   ]
  },
  {
   "cell_type": "markdown",
   "id": "0b1b17b3",
   "metadata": {},
   "source": [
    "The . folder is the current folder, and .. is the parent folder."
   ]
  },
  {
   "cell_type": "markdown",
   "id": "b74449d4",
   "metadata": {},
   "source": [
    "#### 5.In C:\\bacon\\eggs\\spam.txt, which part is the dir name, and which part is the base name?"
   ]
  },
  {
   "cell_type": "markdown",
   "id": "2e1b10d5",
   "metadata": {},
   "source": [
    "1. C:\\bacon\\eggs\\ --> Directory Name\n",
    "2. spam.txt --> Base Name"
   ]
  },
  {
   "cell_type": "markdown",
   "id": "0ed257b9",
   "metadata": {},
   "source": [
    "#### 6. What are the three “mode” arguments that can be passed to the open() function?"
   ]
  },
  {
   "cell_type": "markdown",
   "id": "f692fd16",
   "metadata": {},
   "source": [
    "open()\n",
    "1. 'r' --> read only the file.\n",
    "2. 'w' --> write over the file.\n",
    "3. 'a' --> append to existing file.\n",
    "\n",
    "others modes are\n",
    "\n",
    "\n",
    "4. 'x' --> create a specific file.\n",
    "5. 'b' --> handle the file in binary mode.\n",
    "6. 't' --> handle the file in text mode."
   ]
  },
  {
   "cell_type": "markdown",
   "id": "47c8be8d",
   "metadata": {},
   "source": [
    "#### 7. What happens if an existing file is opened in write mode?"
   ]
  },
  {
   "cell_type": "markdown",
   "id": "7b400526",
   "metadata": {},
   "source": [
    "An existing file opened in write mode would be erased and completely overwritten by the new data written."
   ]
  },
  {
   "cell_type": "markdown",
   "id": "aaa70e5f",
   "metadata": {},
   "source": [
    "#### 8. How do you tell the difference between read() and readlines()?"
   ]
  },
  {
   "cell_type": "code",
   "execution_count": 4,
   "id": "7d11956b",
   "metadata": {},
   "outputs": [
    {
     "name": "stdout",
     "output_type": "stream",
     "text": [
      "first line\n",
      "\n"
     ]
    }
   ],
   "source": [
    "with open('test.txt','r') as file:\n",
    "    line = file.readline()\n",
    "    print(line)"
   ]
  },
  {
   "cell_type": "markdown",
   "id": "567c8103",
   "metadata": {},
   "source": [
    "1. Readline() --> This method would read a line of the file and returns in the form of a string."
   ]
  },
  {
   "cell_type": "code",
   "execution_count": 6,
   "id": "0430e1a2",
   "metadata": {},
   "outputs": [
    {
     "name": "stdout",
     "output_type": "stream",
     "text": [
      "first line\n",
      "second line\n",
      "third line\n"
     ]
    }
   ],
   "source": [
    "with open('test.txt','r') as file:\n",
    "    data = file.read()\n",
    "    print(data)"
   ]
  },
  {
   "cell_type": "markdown",
   "id": "400fc3d4",
   "metadata": {},
   "source": [
    "2. Read() --> This method would read the whole file at once and returns the read bytes in the form of a string."
   ]
  },
  {
   "cell_type": "code",
   "execution_count": 7,
   "id": "46956bc3",
   "metadata": {},
   "outputs": [
    {
     "name": "stdout",
     "output_type": "stream",
     "text": [
      "['first line\\n', 'second line\\n', 'third line']\n"
     ]
    }
   ],
   "source": [
    "with open('test.txt','r') as file:\n",
    "    text = file.readlines()\n",
    "    print(text)"
   ]
  },
  {
   "cell_type": "markdown",
   "id": "dc06c978",
   "metadata": {},
   "source": [
    "3. Readlines() --> This method would read all the lines and returns them as a string element in a list."
   ]
  },
  {
   "cell_type": "markdown",
   "id": "66cfadcf",
   "metadata": {},
   "source": [
    "#### 9. What data structure does a shelf value resemble?"
   ]
  },
  {
   "cell_type": "markdown",
   "id": "385ffc25",
   "metadata": {},
   "source": [
    "A shelf value resembles a dictionary value. It has keys and values, along with keys() and values() methods that work similarly to the dictionary methods of the same names."
   ]
  }
 ],
 "metadata": {
  "kernelspec": {
   "display_name": "Python 3",
   "language": "python",
   "name": "python3"
  },
  "language_info": {
   "codemirror_mode": {
    "name": "ipython",
    "version": 3
   },
   "file_extension": ".py",
   "mimetype": "text/x-python",
   "name": "python",
   "nbconvert_exporter": "python",
   "pygments_lexer": "ipython3",
   "version": "3.8.8"
  }
 },
 "nbformat": 4,
 "nbformat_minor": 5
}
