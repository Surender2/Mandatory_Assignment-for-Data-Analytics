{
 "cells": [
  {
   "cell_type": "markdown",
   "id": "86668423",
   "metadata": {},
   "source": [
    "#### 1) . What is the difference between enclosing a list comprehension in square brackets and parentheses?"
   ]
  },
  {
   "cell_type": "markdown",
   "id": "5916cd0c",
   "metadata": {},
   "source": [
    "Enclosing a list comprehension in square brackets or parentheses affects the type of object that is created. Here's the difference between the two:"
   ]
  },
  {
   "cell_type": "markdown",
   "id": "8c9d06a8",
   "metadata": {},
   "source": [
    "1. Square Brackets: When you enclose a list comprehension in square brackets, it creates a new list. The result of the list comprehension is a list object containing the evaluated elements based on the comprehension logic."
   ]
  },
  {
   "cell_type": "code",
   "execution_count": 1,
   "id": "7a58f861",
   "metadata": {},
   "outputs": [
    {
     "name": "stdout",
     "output_type": "stream",
     "text": [
      "[0, 1, 2, 3, 4]\n"
     ]
    }
   ],
   "source": [
    "new_lst = [x for x in range(5)]\n",
    "print(new_lst)"
   ]
  },
  {
   "cell_type": "markdown",
   "id": "4808d8d8",
   "metadata": {},
   "source": [
    "2. Parentheses: When you enclose a list comprehension in parentheses, it creates a generator object. A generator is an iterable that produces values on-the-fly, as they are requested. It generates values one at a time and doesn't store all the values in memory at once."
   ]
  },
  {
   "cell_type": "code",
   "execution_count": 2,
   "id": "c534ca21",
   "metadata": {},
   "outputs": [
    {
     "name": "stdout",
     "output_type": "stream",
     "text": [
      "<generator object <genexpr> at 0x000001B3F6AEE040>\n"
     ]
    }
   ],
   "source": [
    "my_gen = (y for y in range(5))\n",
    "print(my_gen)"
   ]
  },
  {
   "cell_type": "markdown",
   "id": "ca475c5b",
   "metadata": {},
   "source": [
    "In this case, my_gen is a generator object. To retrieve the values from the generator, you can use a loop or convert it to a list using the list() function."
   ]
  },
  {
   "cell_type": "code",
   "execution_count": 3,
   "id": "2e8288f7",
   "metadata": {},
   "outputs": [
    {
     "data": {
      "text/plain": [
       "[0, 1, 2, 3, 4]"
      ]
     },
     "execution_count": 3,
     "metadata": {},
     "output_type": "execute_result"
    }
   ],
   "source": [
    "list(my_gen)"
   ]
  },
  {
   "cell_type": "markdown",
   "id": "42710620",
   "metadata": {},
   "source": [
    "#### 2).  What is the relationship between generators and iterators?"
   ]
  },
  {
   "cell_type": "markdown",
   "id": "e42ad45e",
   "metadata": {},
   "source": [
    "Generators and iterators are closely related concepts in Python. In fact, generators are a type of iterator. Let's understand their relationship:"
   ]
  },
  {
   "cell_type": "markdown",
   "id": "51398824",
   "metadata": {},
   "source": [
    "1. Iterators: Iterators are objects that implement the iterator protocol, which consists of the `__iter__()` and `__next__()` methods. The `__iter__()` method returns the iterator object itself, and the `__next__()` method returns the next element from the iterator. If there are no more elements, it raises the StopIteration exception."
   ]
  },
  {
   "cell_type": "code",
   "execution_count": 5,
   "id": "bc95b45b",
   "metadata": {},
   "outputs": [
    {
     "name": "stdout",
     "output_type": "stream",
     "text": [
      "0\n",
      "1\n",
      "2\n",
      "3\n",
      "4\n"
     ]
    }
   ],
   "source": [
    "class Iterator_1:\n",
    "    def __init__(self, limit):\n",
    "        self.limit = limit\n",
    "        self.current = 0\n",
    "\n",
    "    def __iter__(self):\n",
    "        return self\n",
    "\n",
    "    def __next__(self):\n",
    "        if self.current < self.limit:\n",
    "            value = self.current\n",
    "            self.current += 1\n",
    "            return value\n",
    "        else:\n",
    "            raise StopIteration\n",
    "\n",
    "my_iterator = Iterator_1(5)\n",
    "for num in my_iterator:\n",
    "    print(num)"
   ]
  },
  {
   "cell_type": "markdown",
   "id": "10331fa1",
   "metadata": {},
   "source": [
    "2. Generators: Generators are a convenient way to create iterators in Python. They are defined using a special kind of function called a generator function. When a generator function is called, it returns a generator object that can be iterated over."
   ]
  },
  {
   "cell_type": "code",
   "execution_count": 6,
   "id": "5ec0109d",
   "metadata": {},
   "outputs": [
    {
     "name": "stdout",
     "output_type": "stream",
     "text": [
      "0\n",
      "1\n",
      "2\n",
      "3\n",
      "4\n"
     ]
    }
   ],
   "source": [
    "def my_generator(limit):\n",
    "    current = 0\n",
    "    while current < limit:\n",
    "        yield current\n",
    "        current += 1\n",
    "\n",
    "my_generator_obj = my_generator(5)\n",
    "for num in my_generator_obj:\n",
    "    print(num)"
   ]
  },
  {
   "cell_type": "markdown",
   "id": "f473400a",
   "metadata": {},
   "source": [
    "In this example, my_generator() is a generator function that uses the yield keyword to produce values one at a time. When the yield statement is encountered, it suspends the function's execution, remembers its state, and yields the value. The function can then be resumed from where it left off when the next value is requested."
   ]
  },
  {
   "cell_type": "markdown",
   "id": "f044fcb6",
   "metadata": {},
   "source": [
    "#### 3). What are the signs that a function is a generator function?"
   ]
  },
  {
   "cell_type": "markdown",
   "id": "791fc1a8",
   "metadata": {},
   "source": [
    "Presence of the yield keyword: A generator function contains one or more yield statements. The yield keyword is used to produce a value from the generator and temporarily suspend the function's execution. It differentiates a generator function from a regular function.\n",
    "\n",
    "Use of the yield statement instead of return: In a regular function, the return statement is used to return a value and terminate the function. In contrast, a generator function uses the yield statement to yield a value and temporarily pause the function's execution. The function can be resumed later to continue execution.\n",
    "\n",
    "Definition using the def keyword: Like regular functions, generator functions are defined using the def keyword. However, the presence of yield statements distinguishes them as generator functions."
   ]
  },
  {
   "cell_type": "code",
   "execution_count": 7,
   "id": "1fced9cc",
   "metadata": {},
   "outputs": [],
   "source": [
    "def fibonacci():\n",
    "    a, b = 0, 1\n",
    "    while True:\n",
    "        yield a\n",
    "        a, b = b, a + b\n",
    "\n",
    "fib_generator = fibonacci()"
   ]
  },
  {
   "cell_type": "markdown",
   "id": "81f5ba07",
   "metadata": {},
   "source": [
    "In this example, fibonacci() is a generator function because it contains a yield statement inside a while loop. When the fib_generator is created, it returns a generator object.\n",
    "\n",
    "To further confirm that a function is a generator function, you can use the inspect module from the Python standard library. The inspect.isgeneratorfunction() function can be used to check if a given function is a generator function. Here's an example:"
   ]
  },
  {
   "cell_type": "code",
   "execution_count": 8,
   "id": "ceb85d95",
   "metadata": {},
   "outputs": [
    {
     "name": "stdout",
     "output_type": "stream",
     "text": [
      "False\n",
      "True\n"
     ]
    }
   ],
   "source": [
    "import inspect\n",
    "\n",
    "def my_function():\n",
    "    return 42\n",
    "\n",
    "def my_generator_function():\n",
    "    yield 42\n",
    "\n",
    "print(inspect.isgeneratorfunction(my_function))           # False\n",
    "print(inspect.isgeneratorfunction(my_generator_function)) # True"
   ]
  },
  {
   "cell_type": "markdown",
   "id": "30f79c18",
   "metadata": {},
   "source": [
    "In this example, inspect.isgeneratorfunction() is used to check if my_function() and my_generator_function() are generator functions. It returns False for the regular function and True for the generator function."
   ]
  },
  {
   "cell_type": "markdown",
   "id": "2f8d5451",
   "metadata": {},
   "source": [
    "#### 4). What is the purpose of a yield statement?"
   ]
  },
  {
   "cell_type": "markdown",
   "id": "4cc31356",
   "metadata": {},
   "source": [
    "The yield statement in Python is used in generator functions to produce a value and temporarily suspend the function's execution. It serves two main purposes:\n",
    "\n",
    "Value Production: The primary purpose of the yield statement is to produce a value from the generator function. When the yield statement is encountered, it temporarily suspends the function's execution, remembers its state, and yields the specified value. This value can then be consumed by the caller of the generator.\n",
    "\n",
    "Function Suspension and Resumption: The yield statement allows the generator function to be suspended and later resumed from where it left off. When a value is yielded, the function's execution is paused, and the yielded value is returned. The function's local state, including variable values, is preserved. The next time the generator is called, it continues execution from the point where it left off, picking up the preserved state."
   ]
  },
  {
   "cell_type": "code",
   "execution_count": 9,
   "id": "cce19bbb",
   "metadata": {},
   "outputs": [
    {
     "name": "stdout",
     "output_type": "stream",
     "text": [
      "5\n",
      "4\n",
      "3\n",
      "2\n",
      "1\n"
     ]
    }
   ],
   "source": [
    "def countdown(n):\n",
    "    while n > 0:\n",
    "        yield n\n",
    "        n -= 1\n",
    "\n",
    "# Create a generator object\n",
    "countdown_gen = countdown(5)\n",
    "\n",
    "# Iterate over the generator\n",
    "for num in countdown_gen:\n",
    "    print(num)\n"
   ]
  },
  {
   "cell_type": "markdown",
   "id": "22858924",
   "metadata": {},
   "source": [
    "In this example, the countdown() function is a generator function that produces a countdown sequence from a given number. The yield statement is used to yield each value of the countdown sequence. When the generator is iterated over, it produces and yields values one at a time, pausing and resuming its execution between each yield statement."
   ]
  },
  {
   "cell_type": "markdown",
   "id": "b6435694",
   "metadata": {},
   "source": [
    "#### 5). What is the relationship between map calls and list comprehensions? Make a comparison and contrast between the two."
   ]
  },
  {
   "cell_type": "markdown",
   "id": "7808e2e0",
   "metadata": {},
   "source": [
    "Both map calls and list comprehensions in Python are used to transform and process elements of a sequence, but they have some differences in terms of syntax and behavior. Let's compare and contrast the two:\n",
    "\n",
    "1. Map: The map() function takes two arguments: a function and an iterable. It applies the function to each element of the iterable and returns an iterator of the results.\n",
    "2. List Comprehension: A list comprehension is an expression that transforms elements from an iterable and generates a new list based on the transformation logic."
   ]
  },
  {
   "cell_type": "code",
   "execution_count": 20,
   "id": "5530e341",
   "metadata": {},
   "outputs": [],
   "source": [
    "result_1 = map(lambda x: x * 2, [1, 2, 3])\n",
    "# Result: [2, 4, 6]"
   ]
  },
  {
   "cell_type": "code",
   "execution_count": 21,
   "id": "f09f582d",
   "metadata": {},
   "outputs": [
    {
     "data": {
      "text/plain": [
       "[2, 4, 6]"
      ]
     },
     "execution_count": 21,
     "metadata": {},
     "output_type": "execute_result"
    }
   ],
   "source": [
    "list(result_1)"
   ]
  },
  {
   "cell_type": "code",
   "execution_count": 22,
   "id": "5830a88d",
   "metadata": {},
   "outputs": [],
   "source": [
    "result_2 = [x * 2 for x in [1, 2, 3]]\n",
    "# Result: [2, 4, 6]"
   ]
  },
  {
   "cell_type": "code",
   "execution_count": 23,
   "id": "8e69a17c",
   "metadata": {},
   "outputs": [
    {
     "data": {
      "text/plain": [
       "[2, 4, 6]"
      ]
     },
     "execution_count": 23,
     "metadata": {},
     "output_type": "execute_result"
    }
   ],
   "source": [
    "result_2"
   ]
  },
  {
   "cell_type": "markdown",
   "id": "e88fdb6d",
   "metadata": {},
   "source": [
    "Map: map() can be useful when applying a function to every element of an iterable without the need for additional filtering or complex transformations. However, it may require a separate function definition or the use of lambda functions for simple transformations, which can make the code less readable.\n",
    "List Comprehension: List comprehensions provide a concise and expressive way to transform and filter elements simultaneously. They can often replace the need for map() and provide a more readable and self-contained syntax."
   ]
  }
 ],
 "metadata": {
  "kernelspec": {
   "display_name": "Python 3",
   "language": "python",
   "name": "python3"
  },
  "language_info": {
   "codemirror_mode": {
    "name": "ipython",
    "version": 3
   },
   "file_extension": ".py",
   "mimetype": "text/x-python",
   "name": "python",
   "nbconvert_exporter": "python",
   "pygments_lexer": "ipython3",
   "version": "3.8.8"
  }
 },
 "nbformat": 4,
 "nbformat_minor": 5
}
