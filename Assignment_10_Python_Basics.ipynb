{
 "cells": [
  {
   "cell_type": "markdown",
   "id": "597590e4",
   "metadata": {},
   "source": [
    "#### 1. How do you distinguish between shutil.copy() and shutil.copytree()?"
   ]
  },
  {
   "cell_type": "markdown",
   "id": "3f538a0f",
   "metadata": {},
   "source": [
    "1. shutil.copy() -->The shutil.copy() function will copy a single file.\n",
    "2. shutil.copytree() -->The shutil.copytree() will copy an entire folder, along with all its contents."
   ]
  },
  {
   "cell_type": "code",
   "execution_count": 13,
   "id": "91a397ab",
   "metadata": {},
   "outputs": [],
   "source": [
    "import os"
   ]
  },
  {
   "cell_type": "code",
   "execution_count": 2,
   "id": "654191a5",
   "metadata": {},
   "outputs": [],
   "source": [
    "import shutil"
   ]
  },
  {
   "cell_type": "code",
   "execution_count": 3,
   "id": "243e6798",
   "metadata": {},
   "outputs": [
    {
     "name": "stdout",
     "output_type": "stream",
     "text": [
      "C:\\Users\\sks12\\Desktop\\Github\n"
     ]
    }
   ],
   "source": [
    "print(os.getcwd())"
   ]
  },
  {
   "cell_type": "code",
   "execution_count": 4,
   "id": "96618e68",
   "metadata": {},
   "outputs": [],
   "source": [
    "path = r\"C:\\Users\\sks12\\Desktop\\Github\""
   ]
  },
  {
   "cell_type": "code",
   "execution_count": 5,
   "id": "cf13538d",
   "metadata": {},
   "outputs": [
    {
     "name": "stdout",
     "output_type": "stream",
     "text": [
      "Before copying file:\n",
      "['.ipynb_checkpoints', 'abc.log', 'data.txt', 'Demo', 'Demo Project for VS code', 'demo.ipynb', 'employee.log', 'Employee1.py', 'Savetofile.log', 'Savetofile.py', 'source', 'test.py', 'test2.py', 'Untitled.ipynb', '__pycache__']\n"
     ]
    }
   ],
   "source": [
    "print(\"Before copying file:\") \n",
    "print(os.listdir(path))"
   ]
  },
  {
   "cell_type": "code",
   "execution_count": 6,
   "id": "f4a856b9",
   "metadata": {},
   "outputs": [],
   "source": [
    "src = r'C:\\Users\\sks12\\Desktop\\Github\\source'"
   ]
  },
  {
   "cell_type": "code",
   "execution_count": 7,
   "id": "5e2cfb09",
   "metadata": {},
   "outputs": [],
   "source": [
    "dest = r'C:\\Users\\sks12\\Desktop\\Github\\destination'"
   ]
  },
  {
   "cell_type": "code",
   "execution_count": 8,
   "id": "5f7fb0fb",
   "metadata": {},
   "outputs": [],
   "source": [
    "destination = shutil.copytree(src, dest) "
   ]
  },
  {
   "cell_type": "code",
   "execution_count": 9,
   "id": "2fe44c1c",
   "metadata": {},
   "outputs": [
    {
     "name": "stdout",
     "output_type": "stream",
     "text": [
      "Before copying file:\n",
      "['.ipynb_checkpoints', 'abc.log', 'data.txt', 'Demo', 'Demo Project for VS code', 'demo.ipynb', 'destination', 'employee.log', 'Employee1.py', 'Savetofile.log', 'Savetofile.py', 'source', 'test.py', 'test2.py', 'Untitled.ipynb', '__pycache__']\n"
     ]
    }
   ],
   "source": [
    "print(\"Before copying file:\")\n",
    "print(os.listdir(path)) "
   ]
  },
  {
   "cell_type": "code",
   "execution_count": 12,
   "id": "9f4d3401",
   "metadata": {},
   "outputs": [
    {
     "name": "stdout",
     "output_type": "stream",
     "text": [
      "Destination path: C:\\Users\\sks12\\Desktop\\Github\\destination\n"
     ]
    }
   ],
   "source": [
    "print(\"Destination path:\", destination)"
   ]
  },
  {
   "cell_type": "markdown",
   "id": "07baa9ed",
   "metadata": {},
   "source": [
    "#### 2. What function is used to rename files??"
   ]
  },
  {
   "cell_type": "markdown",
   "id": "39edcdae",
   "metadata": {},
   "source": [
    "1. using os.rename(src,dest)\n",
    "2. using shutil.move(src,dest) for renaming the files and moving as well."
   ]
  },
  {
   "cell_type": "code",
   "execution_count": 14,
   "id": "c1da2ac8",
   "metadata": {},
   "outputs": [],
   "source": [
    "src = r'C:\\Users\\sks12\\Desktop\\Github\\source\\source.txt'"
   ]
  },
  {
   "cell_type": "code",
   "execution_count": 15,
   "id": "2bfa7d1d",
   "metadata": {},
   "outputs": [],
   "source": [
    "dest = r'C:\\Users\\sks12\\Desktop\\Github\\source\\newsource.txt'"
   ]
  },
  {
   "cell_type": "code",
   "execution_count": 16,
   "id": "0bde23e8",
   "metadata": {},
   "outputs": [
    {
     "name": "stdout",
     "output_type": "stream",
     "text": [
      "Source path renamed to destination path successfully.\n"
     ]
    }
   ],
   "source": [
    "os.rename(src, dest)\n",
    "print(\"Source path renamed to destination path successfully.\")"
   ]
  },
  {
   "cell_type": "markdown",
   "id": "a71ff35e",
   "metadata": {},
   "source": [
    "#### 3. What is the difference between the delete functions in the send2trash and shutil modules?"
   ]
  },
  {
   "cell_type": "markdown",
   "id": "2b626ebc",
   "metadata": {},
   "source": [
    "The send2trash functions will move a file or folder to the recycle bin, while shutil functions will permanently delete files and folders."
   ]
  },
  {
   "cell_type": "code",
   "execution_count": 17,
   "id": "aaf2ed06",
   "metadata": {},
   "outputs": [
    {
     "name": "stdout",
     "output_type": "stream",
     "text": [
      "Requirement already satisfied: send2trash in c:\\users\\sks12\\anaconda3\\lib\\site-packages (1.5.0)\n",
      "Note: you may need to restart the kernel to use updated packages.\n"
     ]
    }
   ],
   "source": [
    "pip install send2trash"
   ]
  },
  {
   "cell_type": "code",
   "execution_count": 1,
   "id": "d65bb5e5",
   "metadata": {},
   "outputs": [],
   "source": [
    "import send2trash"
   ]
  },
  {
   "cell_type": "code",
   "execution_count": 2,
   "id": "4d699c9a",
   "metadata": {},
   "outputs": [],
   "source": [
    "send2trash.send2trash(r'C:\\Users\\sks12\\Desktop\\Github\\source\\newsource.txt')\n",
    "#now newsource.txt file is moved to the recycle bin"
   ]
  },
  {
   "cell_type": "markdown",
   "id": "2c35d487",
   "metadata": {},
   "source": [
    "#### 4. ZipFile objects have a close() method just like File objects’ close() method. What ZipFile method is equivalent to File objects’ open() method?"
   ]
  },
  {
   "cell_type": "code",
   "execution_count": 2,
   "id": "dbdde801",
   "metadata": {},
   "outputs": [],
   "source": [
    "from zipfile import ZipFile"
   ]
  },
  {
   "cell_type": "markdown",
   "id": "ed2817d6",
   "metadata": {},
   "source": [
    "The zipfile.ZipFile() function is equivalent to the open() function; the first argument is the filename, and the second argument is the mode to open the ZIP file in (read, write, or append)."
   ]
  },
  {
   "cell_type": "code",
   "execution_count": 12,
   "id": "a40fc39d",
   "metadata": {},
   "outputs": [],
   "source": [
    "data = 'Zip.zip'"
   ]
  },
  {
   "cell_type": "code",
   "execution_count": 13,
   "id": "229f0f56",
   "metadata": {},
   "outputs": [
    {
     "name": "stdout",
     "output_type": "stream",
     "text": [
      "File Name                                             Modified             Size\n",
      "Zip/Python18.webp                              2023-02-08 12:04:24        23722\n",
      "Zip/test.txt                                   2023-02-08 11:58:34           63\n",
      "Zip/zip4.png                                   2023-02-08 12:04:36         3285\n",
      "Extracting all the files now...\n",
      "Done!\n"
     ]
    }
   ],
   "source": [
    "with ZipFile(data, 'r') as zip:\n",
    "    zip.printdir()\n",
    "    print('Extracting all the files now...')\n",
    "    zip.extractall()\n",
    "    print('Done!')"
   ]
  },
  {
   "cell_type": "markdown",
   "id": "fa38afcc",
   "metadata": {},
   "source": [
    "#### 5. Create a programme that searches a folder tree for files with a certain file extension (such as .pdf or .jpg). Copy these files from whatever location they are in to a new folder."
   ]
  },
  {
   "cell_type": "markdown",
   "id": "af898541",
   "metadata": {},
   "source": [
    "#resource from Github\n",
    "\n",
    "\n",
    "[This is the Link for code resource](https://gist.github.com/Haolicopter/c91012eeffe06030756a05628bffa28c)"
   ]
  },
  {
   "cell_type": "code",
   "execution_count": 18,
   "id": "a70cda30",
   "metadata": {},
   "outputs": [
    {
     "name": "stdout",
     "output_type": "stream",
     "text": [
      "Looking in C:\\Users\\sks12\\Desktop\\Github\\NewFolder for files with extensions of .txt, .py\n"
     ]
    }
   ],
   "source": [
    "import os,shutil\n",
    "\n",
    "\n",
    "def selectCopy(srcfolder,exts,destfolder):\n",
    "    srcfolder = os.path.abspath(srcfolder)\n",
    "    destfolder = os.path.abspath(destfolder)\n",
    "    print('Looking in', srcfolder, 'for files with extensions of', ', '.join(exts))\n",
    "    for fldname,subfolders,f_names in os.walk(srcfolder):\n",
    "        for i in f_names:\n",
    "            name,ext = os.path.splitext(i)\n",
    "            if ext in exts:\n",
    "                filepath = fldname + os.path.sep + i\n",
    "                print('Copying',filepath,'to',destfolder)\n",
    "                shutil.copy(filepath,destfolder)\n",
    "            \n",
    "exts = ['.txt','.py']\n",
    "srcfolder = 'NewFolder'\n",
    "destfolder = 'SearchFolder'\n",
    "selectCopy(srcfolder,exts,destfolder)"
   ]
  }
 ],
 "metadata": {
  "kernelspec": {
   "display_name": "Python 3",
   "language": "python",
   "name": "python3"
  },
  "language_info": {
   "codemirror_mode": {
    "name": "ipython",
    "version": 3
   },
   "file_extension": ".py",
   "mimetype": "text/x-python",
   "name": "python",
   "nbconvert_exporter": "python",
   "pygments_lexer": "ipython3",
   "version": "3.8.8"
  }
 },
 "nbformat": 4,
 "nbformat_minor": 5
}
