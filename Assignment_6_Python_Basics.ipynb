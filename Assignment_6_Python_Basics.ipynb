{
 "cells": [
  {
   "cell_type": "markdown",
   "id": "afa0e699",
   "metadata": {},
   "source": [
    "#### 1. What are escape characters, and how do you use them?"
   ]
  },
  {
   "cell_type": "markdown",
   "id": "0c82819d",
   "metadata": {},
   "source": [
    "Escape characters is a backslash \\ followed by the character you want to insert."
   ]
  },
  {
   "cell_type": "code",
   "execution_count": 1,
   "id": "ddbbe6f3",
   "metadata": {},
   "outputs": [
    {
     "ename": "SyntaxError",
     "evalue": "invalid syntax (<ipython-input-1-e2290fbee631>, line 1)",
     "output_type": "error",
     "traceback": [
      "\u001b[1;36m  File \u001b[1;32m\"<ipython-input-1-e2290fbee631>\"\u001b[1;36m, line \u001b[1;32m1\u001b[0m\n\u001b[1;33m    txt = \"We are the so-called \"Bengalureans\" from the Karnataka.\"\u001b[0m\n\u001b[1;37m                                 ^\u001b[0m\n\u001b[1;31mSyntaxError\u001b[0m\u001b[1;31m:\u001b[0m invalid syntax\n"
     ]
    }
   ],
   "source": [
    "txt = \"We are the so-called \"Bengalureans\" from the Karnataka.\""
   ]
  },
  {
   "cell_type": "markdown",
   "id": "f11e4f8c",
   "metadata": {},
   "source": [
    "To fix this problem, use the escape character \\\":"
   ]
  },
  {
   "cell_type": "code",
   "execution_count": 2,
   "id": "32f2dd83",
   "metadata": {},
   "outputs": [],
   "source": [
    "txt = \"We are the so-called \\\"Bengalureans\\\" from the Karnataka.\""
   ]
  },
  {
   "cell_type": "code",
   "execution_count": 3,
   "id": "9a8681d8",
   "metadata": {},
   "outputs": [
    {
     "data": {
      "text/plain": [
       "'We are the so-called \"Bengalureans\" from the Karnataka.'"
      ]
     },
     "execution_count": 3,
     "metadata": {},
     "output_type": "execute_result"
    }
   ],
   "source": [
    "txt"
   ]
  },
  {
   "cell_type": "markdown",
   "id": "6c36424f",
   "metadata": {},
   "source": [
    "#### 2. What do the escape characters n and t stand for ?"
   ]
  },
  {
   "cell_type": "markdown",
   "id": "5149d18b",
   "metadata": {},
   "source": [
    "\\n is a newline; \\t is a tab."
   ]
  },
  {
   "cell_type": "code",
   "execution_count": 14,
   "id": "f9d073f8",
   "metadata": {},
   "outputs": [
    {
     "name": "stdout",
     "output_type": "stream",
     "text": [
      "This sentences has 2 lines and next line\n",
      "would printed in next line\n"
     ]
    }
   ],
   "source": [
    "print(f\"This sentences has 2 lines and next line\\nwould printed in next line\")"
   ]
  },
  {
   "cell_type": "code",
   "execution_count": 15,
   "id": "288435d4",
   "metadata": {},
   "outputs": [
    {
     "name": "stdout",
     "output_type": "stream",
     "text": [
      "Between two rivers there is a small\tgap \n"
     ]
    }
   ],
   "source": [
    "print(f\"Between two rivers there is a small\\tgap \")"
   ]
  },
  {
   "cell_type": "markdown",
   "id": "021989a3",
   "metadata": {},
   "source": [
    "#### 3. What is the way to include backslash characters in a string?"
   ]
  },
  {
   "cell_type": "markdown",
   "id": "5bc8e4da",
   "metadata": {},
   "source": [
    "The \\\\ escape character will represent a backslash character."
   ]
  },
  {
   "cell_type": "code",
   "execution_count": 16,
   "id": "6cf7d722",
   "metadata": {},
   "outputs": [
    {
     "name": "stdout",
     "output_type": "stream",
     "text": [
      "This sentence consist of only one \\ backslash\n"
     ]
    }
   ],
   "source": [
    "txt = \"This sentence consist of only one \\\\ backslash\"\n",
    "print(txt)"
   ]
  },
  {
   "cell_type": "markdown",
   "id": "36545a3c",
   "metadata": {},
   "source": [
    "#### 4.The string \"Howl's moving castle\" is a correct value. why isn't single quote character in the word Howl's not escaped a problem?"
   ]
  },
  {
   "cell_type": "code",
   "execution_count": 19,
   "id": "68baae28",
   "metadata": {},
   "outputs": [
    {
     "ename": "SyntaxError",
     "evalue": "invalid syntax (<ipython-input-19-01ba8473b09f>, line 1)",
     "output_type": "error",
     "traceback": [
      "\u001b[1;36m  File \u001b[1;32m\"<ipython-input-19-01ba8473b09f>\"\u001b[1;36m, line \u001b[1;32m1\u001b[0m\n\u001b[1;33m    string1 = 'Howl's moving castle'\u001b[0m\n\u001b[1;37m                    ^\u001b[0m\n\u001b[1;31mSyntaxError\u001b[0m\u001b[1;31m:\u001b[0m invalid syntax\n"
     ]
    }
   ],
   "source": [
    "string1 = 'Howl's moving castle'  "
   ]
  },
  {
   "cell_type": "code",
   "execution_count": 20,
   "id": "d3013bff",
   "metadata": {},
   "outputs": [],
   "source": [
    "string = \"Howl's moving castle\""
   ]
  },
  {
   "cell_type": "code",
   "execution_count": 21,
   "id": "3751ba28",
   "metadata": {},
   "outputs": [
    {
     "name": "stdout",
     "output_type": "stream",
     "text": [
      "Howl's moving castle\n"
     ]
    }
   ],
   "source": [
    "print(string) #alternative way to use single quote is using double quote"
   ]
  },
  {
   "cell_type": "markdown",
   "id": "e219b0dd",
   "metadata": {},
   "source": [
    "The single quote in Howl's is fine because you’ve used double quotes to mark the beginning and end of the string."
   ]
  },
  {
   "cell_type": "markdown",
   "id": "0781f76d",
   "metadata": {},
   "source": [
    "#### 5. How do you write a string of newlines if you don't want to use the n character?"
   ]
  },
  {
   "cell_type": "markdown",
   "id": "18793f9b",
   "metadata": {},
   "source": [
    "Multiline strings allow you to use newlines in strings without the \\n escape character."
   ]
  },
  {
   "cell_type": "code",
   "execution_count": 24,
   "id": "6c6ebbd1",
   "metadata": {},
   "outputs": [],
   "source": [
    "txt = \"\"\"\n",
    "      This is multline\n",
    "      string and we can\n",
    "      use triple quote.\n",
    "      \"\"\""
   ]
  },
  {
   "cell_type": "code",
   "execution_count": 25,
   "id": "53882904",
   "metadata": {},
   "outputs": [
    {
     "name": "stdout",
     "output_type": "stream",
     "text": [
      "\n",
      "      This is multline\n",
      "      string and we can\n",
      "      use triple quote.\n",
      "      \n"
     ]
    }
   ],
   "source": [
    "print(txt)"
   ]
  },
  {
   "cell_type": "markdown",
   "id": "e99e8db4",
   "metadata": {},
   "source": [
    "#### 6.What are the values of the given expressions?"
   ]
  },
  {
   "cell_type": "code",
   "execution_count": 27,
   "id": "71cc3edb",
   "metadata": {},
   "outputs": [],
   "source": [
    "txt = \"Hello, world!\""
   ]
  },
  {
   "cell_type": "code",
   "execution_count": 28,
   "id": "167caac3",
   "metadata": {},
   "outputs": [
    {
     "data": {
      "text/plain": [
       "'e'"
      ]
     },
     "execution_count": 28,
     "metadata": {},
     "output_type": "execute_result"
    }
   ],
   "source": [
    "txt[1] #'e'"
   ]
  },
  {
   "cell_type": "code",
   "execution_count": 29,
   "id": "285a64af",
   "metadata": {},
   "outputs": [
    {
     "data": {
      "text/plain": [
       "'Hello'"
      ]
     },
     "execution_count": 29,
     "metadata": {},
     "output_type": "execute_result"
    }
   ],
   "source": [
    "txt[0:5] #'Hello'"
   ]
  },
  {
   "cell_type": "code",
   "execution_count": 30,
   "id": "9e9e7bdd",
   "metadata": {},
   "outputs": [
    {
     "data": {
      "text/plain": [
       "'Hello'"
      ]
     },
     "execution_count": 30,
     "metadata": {},
     "output_type": "execute_result"
    }
   ],
   "source": [
    "txt[:5]  #'Hello'"
   ]
  },
  {
   "cell_type": "code",
   "execution_count": 31,
   "id": "c0108824",
   "metadata": {},
   "outputs": [
    {
     "data": {
      "text/plain": [
       "'lo, world!'"
      ]
     },
     "execution_count": 31,
     "metadata": {},
     "output_type": "execute_result"
    }
   ],
   "source": [
    "txt[3:]  #'lo, world!' "
   ]
  },
  {
   "cell_type": "markdown",
   "id": "69d5a34d",
   "metadata": {},
   "source": [
    "#### 7.What are the values of the following expressions?"
   ]
  },
  {
   "cell_type": "code",
   "execution_count": 32,
   "id": "0380d708",
   "metadata": {},
   "outputs": [
    {
     "data": {
      "text/plain": [
       "'HELLO'"
      ]
     },
     "execution_count": 32,
     "metadata": {},
     "output_type": "execute_result"
    }
   ],
   "source": [
    "'hello'.upper()   #'HELLO'"
   ]
  },
  {
   "cell_type": "code",
   "execution_count": 33,
   "id": "05a1eb61",
   "metadata": {},
   "outputs": [
    {
     "data": {
      "text/plain": [
       "True"
      ]
     },
     "execution_count": 33,
     "metadata": {},
     "output_type": "execute_result"
    }
   ],
   "source": [
    "'Hello'.upper().isupper() # 'HELLO' --> True"
   ]
  },
  {
   "cell_type": "code",
   "execution_count": 34,
   "id": "9881f841",
   "metadata": {},
   "outputs": [
    {
     "data": {
      "text/plain": [
       "'hello'"
      ]
     },
     "execution_count": 34,
     "metadata": {},
     "output_type": "execute_result"
    }
   ],
   "source": [
    "'Hello'.upper().lower()  #'HELLO' --> 'hello'"
   ]
  },
  {
   "cell_type": "markdown",
   "id": "464b764f",
   "metadata": {},
   "source": [
    "#### 8. What are the values of the following expressions?"
   ]
  },
  {
   "cell_type": "code",
   "execution_count": 35,
   "id": "7f9d8daa",
   "metadata": {},
   "outputs": [
    {
     "data": {
      "text/plain": [
       "['Remember,', 'remember,', 'the', 'fifth', 'of', 'July.']"
      ]
     },
     "execution_count": 35,
     "metadata": {},
     "output_type": "execute_result"
    }
   ],
   "source": [
    "'Remember, remember, the fifth of July.'.split()    #coverts string into list of elements with delimiter of ''."
   ]
  },
  {
   "cell_type": "code",
   "execution_count": 36,
   "id": "1cc328c2",
   "metadata": {},
   "outputs": [
    {
     "data": {
      "text/plain": [
       "'There-can-only-one.'"
      ]
     },
     "execution_count": 36,
     "metadata": {},
     "output_type": "execute_result"
    }
   ],
   "source": [
    "'-'.join('There can only one.'.split())  #['There', 'can', 'only', 'one.'] --> 'There-can-only-one'"
   ]
  },
  {
   "cell_type": "markdown",
   "id": "22e9d305",
   "metadata": {},
   "source": [
    "#### 9. What are the methods for right-justifying, left-justifying, and centering a string?"
   ]
  },
  {
   "cell_type": "markdown",
   "id": "48e0e446",
   "metadata": {},
   "source": [
    "The rjust(), ljust(), and center() string methods, respectively"
   ]
  },
  {
   "cell_type": "code",
   "execution_count": 37,
   "id": "8f63e4c2",
   "metadata": {},
   "outputs": [],
   "source": [
    "txt = \"I would like submit my assignment\""
   ]
  },
  {
   "cell_type": "code",
   "execution_count": 38,
   "id": "651d0da3",
   "metadata": {},
   "outputs": [
    {
     "data": {
      "text/plain": [
       "33"
      ]
     },
     "execution_count": 38,
     "metadata": {},
     "output_type": "execute_result"
    }
   ],
   "source": [
    "len(txt)"
   ]
  },
  {
   "cell_type": "code",
   "execution_count": 40,
   "id": "27931cac",
   "metadata": {},
   "outputs": [
    {
     "data": {
      "text/plain": [
       "'*******I would like submit my assignment'"
      ]
     },
     "execution_count": 40,
     "metadata": {},
     "output_type": "execute_result"
    }
   ],
   "source": [
    "txt.rjust(40,'*')"
   ]
  },
  {
   "cell_type": "code",
   "execution_count": 45,
   "id": "62e36b62",
   "metadata": {},
   "outputs": [
    {
     "data": {
      "text/plain": [
       "'I would like submit my assignment-------'"
      ]
     },
     "execution_count": 45,
     "metadata": {},
     "output_type": "execute_result"
    }
   ],
   "source": [
    "txt.ljust(40,'-')"
   ]
  },
  {
   "cell_type": "code",
   "execution_count": 46,
   "id": "a445a7d6",
   "metadata": {},
   "outputs": [
    {
     "data": {
      "text/plain": [
       "'###I would like submit my assignment####'"
      ]
     },
     "execution_count": 46,
     "metadata": {},
     "output_type": "execute_result"
    }
   ],
   "source": [
    "txt.center(40,'#')"
   ]
  },
  {
   "cell_type": "markdown",
   "id": "7bab8d1d",
   "metadata": {},
   "source": [
    "#### 10. What is the best way to remove whitespace characters from the start or end?"
   ]
  },
  {
   "cell_type": "code",
   "execution_count": 47,
   "id": "12e45471",
   "metadata": {},
   "outputs": [],
   "source": [
    "txt = \"     Bootcamp Datascience 2.0   \""
   ]
  },
  {
   "cell_type": "code",
   "execution_count": 48,
   "id": "a3f8aa9f",
   "metadata": {},
   "outputs": [
    {
     "data": {
      "text/plain": [
       "'Bootcamp Datascience 2.0   '"
      ]
     },
     "execution_count": 48,
     "metadata": {},
     "output_type": "execute_result"
    }
   ],
   "source": [
    "txt.lstrip()  #inorder to remove whitespaces left side"
   ]
  },
  {
   "cell_type": "code",
   "execution_count": 49,
   "id": "de3fd50b",
   "metadata": {},
   "outputs": [
    {
     "data": {
      "text/plain": [
       "'     Bootcamp Datascience 2.0'"
      ]
     },
     "execution_count": 49,
     "metadata": {},
     "output_type": "execute_result"
    }
   ],
   "source": [
    "txt.rstrip()    #inorder to remove whitespaces right side"
   ]
  },
  {
   "cell_type": "code",
   "execution_count": 50,
   "id": "7992cc3c",
   "metadata": {},
   "outputs": [
    {
     "data": {
      "text/plain": [
       "'Bootcamp Datascience 2.0'"
      ]
     },
     "execution_count": 50,
     "metadata": {},
     "output_type": "execute_result"
    }
   ],
   "source": [
    "txt.strip()      #inorder to remove whitespaces on both sides of string"
   ]
  }
 ],
 "metadata": {
  "kernelspec": {
   "display_name": "Python 3",
   "language": "python",
   "name": "python3"
  },
  "language_info": {
   "codemirror_mode": {
    "name": "ipython",
    "version": 3
   },
   "file_extension": ".py",
   "mimetype": "text/x-python",
   "name": "python",
   "nbconvert_exporter": "python",
   "pygments_lexer": "ipython3",
   "version": "3.8.8"
  }
 },
 "nbformat": 4,
 "nbformat_minor": 5
}
